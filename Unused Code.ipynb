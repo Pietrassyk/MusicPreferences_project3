{
 "cells": [
  {
   "cell_type": "markdown",
   "metadata": {},
   "source": [
    "### Post-Hoc ANOVA test"
   ]
  },
  {
   "cell_type": "markdown",
   "metadata": {},
   "source": [
    "https://rpubs.com/aaronsc32/games-howell-test"
   ]
  },
  {
   "cell_type": "code",
   "execution_count": 1,
   "metadata": {},
   "outputs": [],
   "source": [
    "# Games Howell Test\n",
    "# std\n",
    "\"\"\"inputs: pandas Series sample 1, pandas Series sample 2\"\"\" \n",
    "def gh_std(s1,s2):\n",
    "    std1 = (s1.std(ddof = 1))**2\n",
    "    std2 = (s2.std(ddof = 1))**2\n",
    "    n1 = len(s1)\n",
    "    n2 = len(s2)\n",
    "    inner = (std1/n1)+(std2/n2)\n",
    "    std = (0.5*inner)**0.5\n",
    "    enum = inner**2\n",
    "    denom1 = (((s1.std(ddof = 1))**2)**2)/(n1-1)\n",
    "    denom2 = (((s2.std(ddof = 1))**2)**2)/(n2-1)\n",
    "    denom = denom1 + denom2\n",
    "    dof = enum/denom\n",
    "    return std, dof\n",
    "\n",
    "def gh_conf_int (s1,s2):\n",
    "    std1 = (s1.std(ddof = 1))**2\n",
    "    std2 = (s2.std(ddof = 1))**2\n",
    "    n1 = len(s1)\n",
    "    n2 = len(s2)\n",
    "    inner = 0.5*(std1/n1)+(std2/n2)\n",
    "    t = abs(stats.ttest_ind(s1,s2, equal_var = False)[0])\n",
    "    const = inner**(1/t)\n",
    "    mean_diff = s1.mean()-s2.mean()\n",
    "    return mean_diff + const , mean_diff - const"
   ]
  },
  {
   "cell_type": "markdown",
   "metadata": {},
   "source": [
    "### Plot Ranks"
   ]
  },
  {
   "cell_type": "code",
   "execution_count": null,
   "metadata": {},
   "outputs": [],
   "source": [
    "plt.style.use(\"ggplot\")\n",
    "agg[[\"rank_yp\",\"rank_pf\"]].plot.bar(figsize = (10,6))\n",
    "plt.title(\"Rank of Appreciation by music Genre\")\n",
    "plt.ylabel(\"Popularity Rank (The higher the more liked)\")\n",
    "plt.legend(title = \"groups\", loc = \"upper right\", labels = [\"Young People\",\"Pitchfork\"], bbox_to_anchor=(0.9,1))\n",
    "plt.show()"
   ]
  }
 ],
 "metadata": {
  "kernelspec": {
   "display_name": "Python 3",
   "language": "python",
   "name": "python3"
  },
  "language_info": {
   "codemirror_mode": {
    "name": "ipython",
    "version": 3
   },
   "file_extension": ".py",
   "mimetype": "text/x-python",
   "name": "python",
   "nbconvert_exporter": "python",
   "pygments_lexer": "ipython3",
   "version": "3.7.3"
  }
 },
 "nbformat": 4,
 "nbformat_minor": 2
}
