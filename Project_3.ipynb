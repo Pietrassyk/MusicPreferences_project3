{
 "cells": [
  {
   "cell_type": "markdown",
   "metadata": {},
   "source": [
    "# Project 3 : Hypothethis Testing"
   ]
  },
  {
   "cell_type": "code",
   "execution_count": 1,
   "metadata": {},
   "outputs": [],
   "source": [
    "import pandas as pd\n",
    "import numpy as np\n",
    "import matplotlib.pyplot as plt\n",
    "import tpclean.tpclean as tp\n",
    "import seaborn as sns\n",
    "import scipy.stats as stats\n",
    "from sklearn.preprocessing import minmax_scale\n",
    "from sklearn.preprocessing import MinMaxScaler\n",
    "\n",
    "sns.set_style('whitegrid')\n",
    "\n",
    "%config InlineBackend.figure_format = 'retina'\n",
    "%matplotlib inline"
   ]
  },
  {
   "cell_type": "code",
   "execution_count": 2,
   "metadata": {},
   "outputs": [
    {
     "name": "stdout",
     "output_type": "stream",
     "text": [
      "LICENSE                      \u001b[31mcolumns.csv\u001b[m\u001b[m\r\n",
      "Music Genre by Education.png \u001b[31mdatabase.sqlite\u001b[m\u001b[m\r\n",
      "MusicGenreRank_yp_pf.png     mod3_final_project.ipynb\r\n",
      "Project_3.ipynb              out.png\r\n",
      "README.md                    \u001b[31mresponses.csv\u001b[m\u001b[m\r\n",
      "Unused Code.ipynb            yp_df.csv\r\n"
     ]
    }
   ],
   "source": [
    "!ls"
   ]
  },
  {
   "cell_type": "code",
   "execution_count": 3,
   "metadata": {},
   "outputs": [
    {
     "name": "stdout",
     "output_type": "stream",
     "text": [
      "Connection to database.sqlite successfull. with curser <sqlite3.Cursor object at 0x1a1703e180>\n"
     ]
    }
   ],
   "source": [
    "tp.sql_connect(\"database.sqlite\")"
   ]
  },
  {
   "cell_type": "code",
   "execution_count": 4,
   "metadata": {},
   "outputs": [],
   "source": [
    "db_tbls_df = tp.sql(\"select * from sqlite_master\")"
   ]
  },
  {
   "cell_type": "code",
   "execution_count": 5,
   "metadata": {},
   "outputs": [],
   "source": [
    "db_tables = {}\n",
    "for tbl_name in db_tbls_df.tbl_name:\n",
    "    db_tables[tbl_name] = tp.sql(f\"SELECT * FROM {tbl_name}\")"
   ]
  },
  {
   "cell_type": "code",
   "execution_count": 6,
   "metadata": {},
   "outputs": [
    {
     "name": "stdout",
     "output_type": "stream",
     "text": [
      "reviews: ['reviewid', 'title', 'artist', 'url', 'score', 'best_new_music', 'author', 'author_type', 'pub_date', 'pub_weekday', 'pub_day', 'pub_month', 'pub_year']\n",
      "artists: ['reviewid', 'artist']\n",
      "genres: ['reviewid', 'genre']\n",
      "labels: ['reviewid', 'label']\n",
      "years: ['reviewid', 'year']\n",
      "content: ['reviewid', 'content']\n"
     ]
    }
   ],
   "source": [
    "for key in db_tables.keys():\n",
    "    print (f\"{key}: {list(db_tables[key].columns)}\")"
   ]
  },
  {
   "cell_type": "markdown",
   "metadata": {},
   "source": [
    "## Pitchfork Dataset"
   ]
  },
  {
   "cell_type": "markdown",
   "metadata": {},
   "source": [
    "### Check for albums reviewed more than once"
   ]
  },
  {
   "cell_type": "code",
   "execution_count": 7,
   "metadata": {
    "scrolled": true
   },
   "outputs": [
    {
     "data": {
      "text/html": [
       "<div>\n",
       "<style scoped>\n",
       "    .dataframe tbody tr th:only-of-type {\n",
       "        vertical-align: middle;\n",
       "    }\n",
       "\n",
       "    .dataframe tbody tr th {\n",
       "        vertical-align: top;\n",
       "    }\n",
       "\n",
       "    .dataframe thead th {\n",
       "        text-align: right;\n",
       "    }\n",
       "</style>\n",
       "<table border=\"1\" class=\"dataframe\">\n",
       "  <thead>\n",
       "    <tr style=\"text-align: right;\">\n",
       "      <th></th>\n",
       "      <th>cnt</th>\n",
       "      <th>avg(score)</th>\n",
       "      <th>reviewid</th>\n",
       "      <th>title</th>\n",
       "      <th>artist</th>\n",
       "      <th>url</th>\n",
       "      <th>score</th>\n",
       "      <th>best_new_music</th>\n",
       "      <th>author</th>\n",
       "      <th>author_type</th>\n",
       "      <th>pub_date</th>\n",
       "      <th>pub_weekday</th>\n",
       "      <th>pub_day</th>\n",
       "      <th>pub_month</th>\n",
       "      <th>pub_year</th>\n",
       "    </tr>\n",
       "  </thead>\n",
       "  <tbody>\n",
       "    <tr>\n",
       "      <th>0</th>\n",
       "      <td>14</td>\n",
       "      <td>7.342857</td>\n",
       "      <td>17223</td>\n",
       "      <td>dj-kicks</td>\n",
       "      <td>hercules and love affair</td>\n",
       "      <td>http://pitchfork.com/reviews/albums/17223-dj-k...</td>\n",
       "      <td>7.0</td>\n",
       "      <td>0</td>\n",
       "      <td>tim finney</td>\n",
       "      <td>None</td>\n",
       "      <td>2012-10-22</td>\n",
       "      <td>0</td>\n",
       "      <td>22</td>\n",
       "      <td>10</td>\n",
       "      <td>2012</td>\n",
       "    </tr>\n",
       "    <tr>\n",
       "      <th>1</th>\n",
       "      <td>9</td>\n",
       "      <td>7.366667</td>\n",
       "      <td>16962</td>\n",
       "      <td>ii</td>\n",
       "      <td>nude beach</td>\n",
       "      <td>http://pitchfork.com/reviews/albums/16962-ii/</td>\n",
       "      <td>7.4</td>\n",
       "      <td>0</td>\n",
       "      <td>steven hyden</td>\n",
       "      <td>contributor</td>\n",
       "      <td>2012-08-09</td>\n",
       "      <td>3</td>\n",
       "      <td>9</td>\n",
       "      <td>8</td>\n",
       "      <td>2012</td>\n",
       "    </tr>\n",
       "    <tr>\n",
       "      <th>2</th>\n",
       "      <td>7</td>\n",
       "      <td>7.057143</td>\n",
       "      <td>13658</td>\n",
       "      <td>greatest hits</td>\n",
       "      <td>foo fighters</td>\n",
       "      <td>http://pitchfork.com/reviews/albums/13658-grea...</td>\n",
       "      <td>7.0</td>\n",
       "      <td>0</td>\n",
       "      <td>matthew perpetua</td>\n",
       "      <td>None</td>\n",
       "      <td>2009-11-03</td>\n",
       "      <td>1</td>\n",
       "      <td>3</td>\n",
       "      <td>11</td>\n",
       "      <td>2009</td>\n",
       "    </tr>\n",
       "    <tr>\n",
       "      <th>3</th>\n",
       "      <td>7</td>\n",
       "      <td>5.442857</td>\n",
       "      <td>16618</td>\n",
       "      <td>live</td>\n",
       "      <td>me</td>\n",
       "      <td>http://pitchfork.com/reviews/albums/16618-live/</td>\n",
       "      <td>7.3</td>\n",
       "      <td>0</td>\n",
       "      <td>tim finney</td>\n",
       "      <td>None</td>\n",
       "      <td>2012-05-16</td>\n",
       "      <td>2</td>\n",
       "      <td>16</td>\n",
       "      <td>5</td>\n",
       "      <td>2012</td>\n",
       "    </tr>\n",
       "    <tr>\n",
       "      <th>4</th>\n",
       "      <td>6</td>\n",
       "      <td>7.616667</td>\n",
       "      <td>10250</td>\n",
       "      <td>dj kicks</td>\n",
       "      <td>hot chip</td>\n",
       "      <td>http://pitchfork.com/reviews/albums/10250-dj-k...</td>\n",
       "      <td>8.0</td>\n",
       "      <td>0</td>\n",
       "      <td>mark pytlik</td>\n",
       "      <td>contributor</td>\n",
       "      <td>2007-05-23</td>\n",
       "      <td>2</td>\n",
       "      <td>23</td>\n",
       "      <td>5</td>\n",
       "      <td>2007</td>\n",
       "    </tr>\n",
       "  </tbody>\n",
       "</table>\n",
       "</div>"
      ],
      "text/plain": [
       "   cnt  avg(score)  reviewid          title                    artist  \\\n",
       "0   14    7.342857     17223       dj-kicks  hercules and love affair   \n",
       "1    9    7.366667     16962             ii                nude beach   \n",
       "2    7    7.057143     13658  greatest hits              foo fighters   \n",
       "3    7    5.442857     16618           live                        me   \n",
       "4    6    7.616667     10250       dj kicks                  hot chip   \n",
       "\n",
       "                                                 url  score  best_new_music  \\\n",
       "0  http://pitchfork.com/reviews/albums/17223-dj-k...    7.0               0   \n",
       "1      http://pitchfork.com/reviews/albums/16962-ii/    7.4               0   \n",
       "2  http://pitchfork.com/reviews/albums/13658-grea...    7.0               0   \n",
       "3    http://pitchfork.com/reviews/albums/16618-live/    7.3               0   \n",
       "4  http://pitchfork.com/reviews/albums/10250-dj-k...    8.0               0   \n",
       "\n",
       "             author  author_type    pub_date  pub_weekday  pub_day  pub_month  \\\n",
       "0        tim finney         None  2012-10-22            0       22         10   \n",
       "1      steven hyden  contributor  2012-08-09            3        9          8   \n",
       "2  matthew perpetua         None  2009-11-03            1        3         11   \n",
       "3        tim finney         None  2012-05-16            2       16          5   \n",
       "4       mark pytlik  contributor  2007-05-23            2       23          5   \n",
       "\n",
       "   pub_year  \n",
       "0      2012  \n",
       "1      2012  \n",
       "2      2009  \n",
       "3      2012  \n",
       "4      2007  "
      ]
     },
     "execution_count": 7,
     "metadata": {},
     "output_type": "execute_result"
    }
   ],
   "source": [
    "\n",
    "tp.sql(\"\"\"SELECT COUNT(reviewid) as cnt, avg(score), * \n",
    "        FROM (SELECT * \n",
    "               FROM reviews \n",
    "               WHERE pub_year <2013) \n",
    "        GROUP BY (title)\n",
    "        HAVING cnt > 1\n",
    "        ORDER BY cnt DESC\n",
    "        LIMIT 5\"\"\")"
   ]
  },
  {
   "cell_type": "markdown",
   "metadata": {},
   "source": [
    "* Albums that have been reviewed more then once will get a avarage score over all thier reviews\n",
    "* Data on Albums labeled as global or experimental will be excluded, becuase they dont have a counterpart in the young peoples Dataset"
   ]
  },
  {
   "cell_type": "code",
   "execution_count": 8,
   "metadata": {},
   "outputs": [
    {
     "data": {
      "text/html": [
       "<div>\n",
       "<style scoped>\n",
       "    .dataframe tbody tr th:only-of-type {\n",
       "        vertical-align: middle;\n",
       "    }\n",
       "\n",
       "    .dataframe tbody tr th {\n",
       "        vertical-align: top;\n",
       "    }\n",
       "\n",
       "    .dataframe thead th {\n",
       "        text-align: right;\n",
       "    }\n",
       "</style>\n",
       "<table border=\"1\" class=\"dataframe\">\n",
       "  <thead>\n",
       "    <tr style=\"text-align: right;\">\n",
       "      <th></th>\n",
       "      <th>album_score</th>\n",
       "      <th>reviewid</th>\n",
       "      <th>title</th>\n",
       "      <th>artist</th>\n",
       "      <th>url</th>\n",
       "      <th>score</th>\n",
       "      <th>best_new_music</th>\n",
       "      <th>author</th>\n",
       "      <th>author_type</th>\n",
       "      <th>pub_date</th>\n",
       "      <th>pub_weekday</th>\n",
       "      <th>pub_day</th>\n",
       "      <th>pub_month</th>\n",
       "      <th>pub_year</th>\n",
       "      <th>genre</th>\n",
       "    </tr>\n",
       "  </thead>\n",
       "  <tbody>\n",
       "    <tr>\n",
       "      <th>0</th>\n",
       "      <td>7.5</td>\n",
       "      <td>17477</td>\n",
       "      <td>finally rich</td>\n",
       "      <td>chief keef</td>\n",
       "      <td>http://pitchfork.com/reviews/albums/17477-fina...</td>\n",
       "      <td>7.5</td>\n",
       "      <td>0</td>\n",
       "      <td>jayson greene</td>\n",
       "      <td>senior editor</td>\n",
       "      <td>2012-12-14</td>\n",
       "      <td>4</td>\n",
       "      <td>14</td>\n",
       "      <td>12</td>\n",
       "      <td>2012</td>\n",
       "      <td>rap</td>\n",
       "    </tr>\n",
       "    <tr>\n",
       "      <th>1</th>\n",
       "      <td>7.5</td>\n",
       "      <td>17487</td>\n",
       "      <td>tuna melt ep</td>\n",
       "      <td>a-trak</td>\n",
       "      <td>http://pitchfork.com/reviews/albums/17487-tuna...</td>\n",
       "      <td>7.5</td>\n",
       "      <td>0</td>\n",
       "      <td>miles raymer</td>\n",
       "      <td>contributor</td>\n",
       "      <td>2012-12-14</td>\n",
       "      <td>4</td>\n",
       "      <td>14</td>\n",
       "      <td>12</td>\n",
       "      <td>2012</td>\n",
       "      <td>rap</td>\n",
       "    </tr>\n",
       "    <tr>\n",
       "      <th>2</th>\n",
       "      <td>7.5</td>\n",
       "      <td>17487</td>\n",
       "      <td>tuna melt ep</td>\n",
       "      <td>a-trak</td>\n",
       "      <td>http://pitchfork.com/reviews/albums/17487-tuna...</td>\n",
       "      <td>7.5</td>\n",
       "      <td>0</td>\n",
       "      <td>miles raymer</td>\n",
       "      <td>contributor</td>\n",
       "      <td>2012-12-14</td>\n",
       "      <td>4</td>\n",
       "      <td>14</td>\n",
       "      <td>12</td>\n",
       "      <td>2012</td>\n",
       "      <td>electronic</td>\n",
       "    </tr>\n",
       "    <tr>\n",
       "      <th>3</th>\n",
       "      <td>8.0</td>\n",
       "      <td>17471</td>\n",
       "      <td>orbits</td>\n",
       "      <td>starkey</td>\n",
       "      <td>http://pitchfork.com/reviews/albums/17471-orbits/</td>\n",
       "      <td>8.0</td>\n",
       "      <td>0</td>\n",
       "      <td>nate patrin</td>\n",
       "      <td>contributor</td>\n",
       "      <td>2012-12-14</td>\n",
       "      <td>4</td>\n",
       "      <td>14</td>\n",
       "      <td>12</td>\n",
       "      <td>2012</td>\n",
       "      <td>electronic</td>\n",
       "    </tr>\n",
       "    <tr>\n",
       "      <th>4</th>\n",
       "      <td>4.8</td>\n",
       "      <td>17391</td>\n",
       "      <td>o.n.i.f.c.</td>\n",
       "      <td>wiz khalifa</td>\n",
       "      <td>http://pitchfork.com/reviews/albums/17391-onifc/</td>\n",
       "      <td>4.8</td>\n",
       "      <td>0</td>\n",
       "      <td>jordan sargent</td>\n",
       "      <td>None</td>\n",
       "      <td>2012-12-13</td>\n",
       "      <td>3</td>\n",
       "      <td>13</td>\n",
       "      <td>12</td>\n",
       "      <td>2012</td>\n",
       "      <td>rap</td>\n",
       "    </tr>\n",
       "  </tbody>\n",
       "</table>\n",
       "</div>"
      ],
      "text/plain": [
       "   album_score  reviewid         title       artist  \\\n",
       "0          7.5     17477  finally rich   chief keef   \n",
       "1          7.5     17487  tuna melt ep       a-trak   \n",
       "2          7.5     17487  tuna melt ep       a-trak   \n",
       "3          8.0     17471        orbits      starkey   \n",
       "4          4.8     17391    o.n.i.f.c.  wiz khalifa   \n",
       "\n",
       "                                                 url  score  best_new_music  \\\n",
       "0  http://pitchfork.com/reviews/albums/17477-fina...    7.5               0   \n",
       "1  http://pitchfork.com/reviews/albums/17487-tuna...    7.5               0   \n",
       "2  http://pitchfork.com/reviews/albums/17487-tuna...    7.5               0   \n",
       "3  http://pitchfork.com/reviews/albums/17471-orbits/    8.0               0   \n",
       "4   http://pitchfork.com/reviews/albums/17391-onifc/    4.8               0   \n",
       "\n",
       "           author    author_type    pub_date  pub_weekday  pub_day  pub_month  \\\n",
       "0   jayson greene  senior editor  2012-12-14            4       14         12   \n",
       "1    miles raymer    contributor  2012-12-14            4       14         12   \n",
       "2    miles raymer    contributor  2012-12-14            4       14         12   \n",
       "3     nate patrin    contributor  2012-12-14            4       14         12   \n",
       "4  jordan sargent           None  2012-12-13            3       13         12   \n",
       "\n",
       "   pub_year       genre  \n",
       "0      2012         rap  \n",
       "1      2012         rap  \n",
       "2      2012  electronic  \n",
       "3      2012  electronic  \n",
       "4      2012         rap  "
      ]
     },
     "execution_count": 8,
     "metadata": {},
     "output_type": "execute_result"
    }
   ],
   "source": [
    "pf_df = tp.sql(\"\"\"SELECT *\n",
    "          FROM \n",
    "               (SELECT avg(score) as album_score, * \n",
    "                FROM reviews\n",
    "                WHERE pub_year <2013 \n",
    "                GROUP BY (title))\n",
    "          JOIN genres USING(reviewid)\n",
    "          WHERE genre NOT IN('global','experimental')\n",
    "          \"\"\")\n",
    "pf_df.head()"
   ]
  },
  {
   "cell_type": "markdown",
   "metadata": {},
   "source": [
    "### Collect Data on avarage score by genre"
   ]
  },
  {
   "cell_type": "code",
   "execution_count": 9,
   "metadata": {},
   "outputs": [],
   "source": [
    "# split into subsets for genres\n",
    "def feature_split(df,split_feature):\n",
    "    df_dict = {}\n",
    "    splits = list(df[split_feature].value_counts().index)\n",
    "    for split in splits:\n",
    "        temp = df[df[split_feature] == split]\n",
    "        df_dict[split] = temp\n",
    "    return df_dict\n",
    "df = pf_df\n",
    "split_feature = \"genre\"\n",
    "df_list = feature_split(df,split_feature)"
   ]
  },
  {
   "cell_type": "code",
   "execution_count": 10,
   "metadata": {},
   "outputs": [
    {
     "data": {
      "text/plain": [
       "count    13868.000000\n",
       "mean         6.906780\n",
       "std          1.390099\n",
       "min          0.000000\n",
       "25%          6.287500\n",
       "50%          7.200000\n",
       "75%          7.800000\n",
       "max         10.000000\n",
       "Name: album_score, dtype: float64"
      ]
     },
     "execution_count": 10,
     "metadata": {},
     "output_type": "execute_result"
    }
   ],
   "source": [
    "pf_df.album_score.describe()"
   ]
  },
  {
   "cell_type": "code",
   "execution_count": 11,
   "metadata": {},
   "outputs": [
    {
     "name": "stderr",
     "output_type": "stream",
     "text": [
      "/Users/pietrassyk/anaconda3/lib/python3.7/site-packages/ipykernel_launcher.py:8: SettingWithCopyWarning: \n",
      "A value is trying to be set on a copy of a slice from a DataFrame.\n",
      "Try using .loc[row_indexer,col_indexer] = value instead\n",
      "\n",
      "See the caveats in the documentation: http://pandas.pydata.org/pandas-docs/stable/indexing.html#indexing-view-versus-copy\n",
      "  \n",
      "/Users/pietrassyk/anaconda3/lib/python3.7/site-packages/ipykernel_launcher.py:8: SettingWithCopyWarning: \n",
      "A value is trying to be set on a copy of a slice from a DataFrame.\n",
      "Try using .loc[row_indexer,col_indexer] = value instead\n",
      "\n",
      "See the caveats in the documentation: http://pandas.pydata.org/pandas-docs/stable/indexing.html#indexing-view-versus-copy\n",
      "  \n",
      "/Users/pietrassyk/anaconda3/lib/python3.7/site-packages/ipykernel_launcher.py:8: SettingWithCopyWarning: \n",
      "A value is trying to be set on a copy of a slice from a DataFrame.\n",
      "Try using .loc[row_indexer,col_indexer] = value instead\n",
      "\n",
      "See the caveats in the documentation: http://pandas.pydata.org/pandas-docs/stable/indexing.html#indexing-view-versus-copy\n",
      "  \n",
      "/Users/pietrassyk/anaconda3/lib/python3.7/site-packages/ipykernel_launcher.py:8: SettingWithCopyWarning: \n",
      "A value is trying to be set on a copy of a slice from a DataFrame.\n",
      "Try using .loc[row_indexer,col_indexer] = value instead\n",
      "\n",
      "See the caveats in the documentation: http://pandas.pydata.org/pandas-docs/stable/indexing.html#indexing-view-versus-copy\n",
      "  \n",
      "/Users/pietrassyk/anaconda3/lib/python3.7/site-packages/ipykernel_launcher.py:8: SettingWithCopyWarning: \n",
      "A value is trying to be set on a copy of a slice from a DataFrame.\n",
      "Try using .loc[row_indexer,col_indexer] = value instead\n",
      "\n",
      "See the caveats in the documentation: http://pandas.pydata.org/pandas-docs/stable/indexing.html#indexing-view-versus-copy\n",
      "  \n",
      "/Users/pietrassyk/anaconda3/lib/python3.7/site-packages/ipykernel_launcher.py:8: SettingWithCopyWarning: \n",
      "A value is trying to be set on a copy of a slice from a DataFrame.\n",
      "Try using .loc[row_indexer,col_indexer] = value instead\n",
      "\n",
      "See the caveats in the documentation: http://pandas.pydata.org/pandas-docs/stable/indexing.html#indexing-view-versus-copy\n",
      "  \n",
      "/Users/pietrassyk/anaconda3/lib/python3.7/site-packages/ipykernel_launcher.py:8: SettingWithCopyWarning: \n",
      "A value is trying to be set on a copy of a slice from a DataFrame.\n",
      "Try using .loc[row_indexer,col_indexer] = value instead\n",
      "\n",
      "See the caveats in the documentation: http://pandas.pydata.org/pandas-docs/stable/indexing.html#indexing-view-versus-copy\n",
      "  \n"
     ]
    }
   ],
   "source": [
    "#transform album_score from (0-10) to the young people score (1-5) for comparison\n",
    "scaler = MinMaxScaler(feature_range = (1,5), copy = True)\n",
    "scaler.fit(np.asarray(pf_df.album_score).reshape(-1, 1))\n",
    "dfs=[]\n",
    "for key in df_list.keys():\n",
    "    transformed = scaler.transform(np.asarray(df_list[key][\"album_score\"]).reshape(-1,1))\n",
    "    #df_list[key].loc[:,\"album_score\"] = transformed\n",
    "    df_list[key][\"mean\"] = transformed\n",
    "    dfs.append(df_list[key])\n",
    "new_pf_df=pd.concat(dfs,axis = 0)"
   ]
  },
  {
   "cell_type": "code",
   "execution_count": 12,
   "metadata": {},
   "outputs": [],
   "source": [
    "new_pf_df1 = new_pf_df[[\"genre\",\"mean\"]].groupby(\"genre\").agg([\"mean\",\"count\",\"std\"])\n",
    "pf_ns = new_pf_df1[\"mean\"][\"count\"]"
   ]
  },
  {
   "cell_type": "code",
   "execution_count": 13,
   "metadata": {},
   "outputs": [],
   "source": [
    "new_pf_df = new_pf_df.groupby(\"genre\").mean().sort_values(\"album_score\", ascending = True).reset_index()[[\"genre\",\"mean\"]]"
   ]
  },
  {
   "cell_type": "code",
   "execution_count": 14,
   "metadata": {
    "scrolled": false
   },
   "outputs": [
    {
     "data": {
      "text/html": [
       "<div>\n",
       "<style scoped>\n",
       "    .dataframe tbody tr th:only-of-type {\n",
       "        vertical-align: middle;\n",
       "    }\n",
       "\n",
       "    .dataframe tbody tr th {\n",
       "        vertical-align: top;\n",
       "    }\n",
       "\n",
       "    .dataframe thead th {\n",
       "        text-align: right;\n",
       "    }\n",
       "</style>\n",
       "<table border=\"1\" class=\"dataframe\">\n",
       "  <thead>\n",
       "    <tr style=\"text-align: right;\">\n",
       "      <th></th>\n",
       "      <th>genre</th>\n",
       "      <th>mean</th>\n",
       "    </tr>\n",
       "  </thead>\n",
       "  <tbody>\n",
       "    <tr>\n",
       "      <th>0</th>\n",
       "      <td>pop/r&amp;b</td>\n",
       "      <td>3.727555</td>\n",
       "    </tr>\n",
       "    <tr>\n",
       "      <th>1</th>\n",
       "      <td>metal</td>\n",
       "      <td>3.732195</td>\n",
       "    </tr>\n",
       "    <tr>\n",
       "      <th>2</th>\n",
       "      <td>rap</td>\n",
       "      <td>3.743891</td>\n",
       "    </tr>\n",
       "    <tr>\n",
       "      <th>3</th>\n",
       "      <td>electronic</td>\n",
       "      <td>3.751600</td>\n",
       "    </tr>\n",
       "    <tr>\n",
       "      <th>4</th>\n",
       "      <td>rock</td>\n",
       "      <td>3.763719</td>\n",
       "    </tr>\n",
       "    <tr>\n",
       "      <th>5</th>\n",
       "      <td>folk/country</td>\n",
       "      <td>3.865215</td>\n",
       "    </tr>\n",
       "    <tr>\n",
       "      <th>6</th>\n",
       "      <td>jazz</td>\n",
       "      <td>3.888034</td>\n",
       "    </tr>\n",
       "  </tbody>\n",
       "</table>\n",
       "</div>"
      ],
      "text/plain": [
       "          genre      mean\n",
       "0       pop/r&b  3.727555\n",
       "1         metal  3.732195\n",
       "2           rap  3.743891\n",
       "3    electronic  3.751600\n",
       "4          rock  3.763719\n",
       "5  folk/country  3.865215\n",
       "6          jazz  3.888034"
      ]
     },
     "execution_count": 14,
     "metadata": {},
     "output_type": "execute_result"
    }
   ],
   "source": [
    "# Average adjusted Scoring for Music Genres in the Pitchfork Dataset\n",
    "new_pf_df"
   ]
  },
  {
   "cell_type": "code",
   "execution_count": 15,
   "metadata": {},
   "outputs": [
    {
     "data": {
      "text/html": [
       "<div>\n",
       "<style scoped>\n",
       "    .dataframe tbody tr th:only-of-type {\n",
       "        vertical-align: middle;\n",
       "    }\n",
       "\n",
       "    .dataframe tbody tr th {\n",
       "        vertical-align: top;\n",
       "    }\n",
       "\n",
       "    .dataframe thead th {\n",
       "        text-align: right;\n",
       "    }\n",
       "</style>\n",
       "<table border=\"1\" class=\"dataframe\">\n",
       "  <thead>\n",
       "    <tr style=\"text-align: right;\">\n",
       "      <th></th>\n",
       "      <th>genre</th>\n",
       "      <th>mean</th>\n",
       "      <th>rank</th>\n",
       "    </tr>\n",
       "  </thead>\n",
       "  <tbody>\n",
       "    <tr>\n",
       "      <th>6</th>\n",
       "      <td>jazz</td>\n",
       "      <td>3.888034</td>\n",
       "      <td>7</td>\n",
       "    </tr>\n",
       "    <tr>\n",
       "      <th>5</th>\n",
       "      <td>folk/country</td>\n",
       "      <td>3.865215</td>\n",
       "      <td>6</td>\n",
       "    </tr>\n",
       "    <tr>\n",
       "      <th>4</th>\n",
       "      <td>rock</td>\n",
       "      <td>3.763719</td>\n",
       "      <td>5</td>\n",
       "    </tr>\n",
       "    <tr>\n",
       "      <th>3</th>\n",
       "      <td>electronic</td>\n",
       "      <td>3.751600</td>\n",
       "      <td>4</td>\n",
       "    </tr>\n",
       "    <tr>\n",
       "      <th>2</th>\n",
       "      <td>rap</td>\n",
       "      <td>3.743891</td>\n",
       "      <td>3</td>\n",
       "    </tr>\n",
       "    <tr>\n",
       "      <th>1</th>\n",
       "      <td>metal</td>\n",
       "      <td>3.732195</td>\n",
       "      <td>2</td>\n",
       "    </tr>\n",
       "    <tr>\n",
       "      <th>0</th>\n",
       "      <td>pop/r&amp;b</td>\n",
       "      <td>3.727555</td>\n",
       "      <td>1</td>\n",
       "    </tr>\n",
       "  </tbody>\n",
       "</table>\n",
       "</div>"
      ],
      "text/plain": [
       "          genre      mean  rank\n",
       "6          jazz  3.888034     7\n",
       "5  folk/country  3.865215     6\n",
       "4          rock  3.763719     5\n",
       "3    electronic  3.751600     4\n",
       "2           rap  3.743891     3\n",
       "1         metal  3.732195     2\n",
       "0       pop/r&b  3.727555     1"
      ]
     },
     "execution_count": 15,
     "metadata": {},
     "output_type": "execute_result"
    }
   ],
   "source": [
    "#Rank\n",
    "pf_agg = new_pf_df\n",
    "pf_agg[\"rank\"]=pf_agg.index+1\n",
    "pf_agg = pf_agg.sort_values(\"rank\", ascending = False)\n",
    "pf_agg"
   ]
  },
  {
   "cell_type": "markdown",
   "metadata": {},
   "source": [
    "## Young Peoples Study"
   ]
  },
  {
   "cell_type": "code",
   "execution_count": 16,
   "metadata": {},
   "outputs": [],
   "source": [
    "# young peoples study\n",
    "yp_df = pd.read_csv(\"responses.csv\")\n",
    "yp_description = pd.read_csv(\"columns.csv\")"
   ]
  },
  {
   "cell_type": "markdown",
   "metadata": {},
   "source": [
    "## Cleaning"
   ]
  },
  {
   "cell_type": "code",
   "execution_count": 17,
   "metadata": {
    "scrolled": true
   },
   "outputs": [
    {
     "data": {
      "text/plain": [
       "608"
      ]
     },
     "execution_count": 17,
     "metadata": {},
     "output_type": "execute_result"
    }
   ],
   "source": [
    "# Nan Values\n",
    "yp_df.isnull().sum().sum()"
   ]
  },
  {
   "cell_type": "code",
   "execution_count": 18,
   "metadata": {},
   "outputs": [],
   "source": [
    "#Replace Nan with Median for Numerical Data and Mode for Nonnumerical Data\n",
    "df = yp_df\n",
    "values = {}\n",
    "for col in df.columns:\n",
    "    if df[col].dtype == \"O\":\n",
    "        values[col] = df[col].mode()  \n",
    "    else: \n",
    "        values[col] = df[col].median()\n",
    "df.fillna(value = values, inplace = True);"
   ]
  },
  {
   "cell_type": "code",
   "execution_count": 19,
   "metadata": {
    "scrolled": true
   },
   "outputs": [
    {
     "data": {
      "text/plain": [
       "37"
      ]
     },
     "execution_count": 19,
     "metadata": {},
     "output_type": "execute_result"
    }
   ],
   "source": [
    "#Check for Success\n",
    "yp_df = df\n",
    "yp_df.isnull().sum().sum()"
   ]
  },
  {
   "cell_type": "code",
   "execution_count": 20,
   "metadata": {},
   "outputs": [],
   "source": [
    "#export\n",
    "yp_df.to_csv(\"yp_df.csv\")"
   ]
  },
  {
   "cell_type": "markdown",
   "metadata": {},
   "source": [
    "# Hypothesis #1 Music Preferences in YP vs. Pitchfork"
   ]
  },
  {
   "cell_type": "markdown",
   "metadata": {},
   "source": [
    "### Hypothethis declaration\n",
    "+ H0: Music Preferences Ranks between the YP-Dataset and Pitchfork do not differ.\n",
    "+ H1: Music Preferences Rnaks between the YP-Dataset and Pitchfork differ.\n",
    "\n",
    "Hypothethis will be tested using Mann-Whitney test for rank comparison"
   ]
  },
  {
   "cell_type": "markdown",
   "metadata": {},
   "source": [
    "### Avarage score by Genre"
   ]
  },
  {
   "cell_type": "markdown",
   "metadata": {},
   "source": [
    "#### Preperating the Young Peoples Dataset"
   ]
  },
  {
   "cell_type": "code",
   "execution_count": 21,
   "metadata": {},
   "outputs": [],
   "source": [
    "#Combine Folk and Country Column to match the Pitchfork Music Genres\n",
    "yp_df[\"Folk, Country\"] = (yp_df[\"Folk\"]+yp_df[\"Country\"])/2"
   ]
  },
  {
   "cell_type": "code",
   "execution_count": 22,
   "metadata": {},
   "outputs": [],
   "source": [
    "# Setting Values for Renaming Colunmns to exactly match Music Genres\n",
    "rename_dict = {\"Rock\": \"rock\" ,\n",
    "               \"Pop\" : \"pop/r&b\",\n",
    "               \"Hiphop, Rap\":\"rap\",\n",
    "               \"Swing, Jazz\":\"jazz\",\n",
    "               \"Metal or Hardrock\": \"metal\",\n",
    "               \"Techno, Trance\":\"electronic\",\n",
    "               \"Folk, Country\":\"folk/country\"} #old:new"
   ]
  },
  {
   "cell_type": "code",
   "execution_count": 23,
   "metadata": {},
   "outputs": [],
   "source": [
    "# Only select Music Genres that are also in the Pitchfork Genres\n",
    "yp_music_df = yp_df[['Swing, Jazz',\"Folk, Country\",\"Rock\",'Techno, Trance','Hiphop, Rap','Metal or Hardrock',\"Pop\"]]\n",
    "\n"
   ]
  },
  {
   "cell_type": "code",
   "execution_count": 24,
   "metadata": {},
   "outputs": [
    {
     "data": {
      "text/html": [
       "<div>\n",
       "<style scoped>\n",
       "    .dataframe tbody tr th:only-of-type {\n",
       "        vertical-align: middle;\n",
       "    }\n",
       "\n",
       "    .dataframe tbody tr th {\n",
       "        vertical-align: top;\n",
       "    }\n",
       "\n",
       "    .dataframe thead th {\n",
       "        text-align: right;\n",
       "    }\n",
       "</style>\n",
       "<table border=\"1\" class=\"dataframe\">\n",
       "  <thead>\n",
       "    <tr style=\"text-align: right;\">\n",
       "      <th></th>\n",
       "      <th>genre</th>\n",
       "      <th>mean</th>\n",
       "      <th>count</th>\n",
       "      <th>rank</th>\n",
       "    </tr>\n",
       "  </thead>\n",
       "  <tbody>\n",
       "    <tr>\n",
       "      <th>6</th>\n",
       "      <td>rock</td>\n",
       "      <td>3.763366</td>\n",
       "      <td>1010.0</td>\n",
       "      <td>7</td>\n",
       "    </tr>\n",
       "    <tr>\n",
       "      <th>5</th>\n",
       "      <td>pop/r&amp;b</td>\n",
       "      <td>3.473267</td>\n",
       "      <td>1010.0</td>\n",
       "      <td>6</td>\n",
       "    </tr>\n",
       "    <tr>\n",
       "      <th>4</th>\n",
       "      <td>rap</td>\n",
       "      <td>2.910891</td>\n",
       "      <td>1010.0</td>\n",
       "      <td>5</td>\n",
       "    </tr>\n",
       "    <tr>\n",
       "      <th>3</th>\n",
       "      <td>jazz</td>\n",
       "      <td>2.761386</td>\n",
       "      <td>1010.0</td>\n",
       "      <td>4</td>\n",
       "    </tr>\n",
       "    <tr>\n",
       "      <th>2</th>\n",
       "      <td>metal</td>\n",
       "      <td>2.360396</td>\n",
       "      <td>1010.0</td>\n",
       "      <td>3</td>\n",
       "    </tr>\n",
       "    <tr>\n",
       "      <th>1</th>\n",
       "      <td>electronic</td>\n",
       "      <td>2.336634</td>\n",
       "      <td>1010.0</td>\n",
       "      <td>2</td>\n",
       "    </tr>\n",
       "    <tr>\n",
       "      <th>0</th>\n",
       "      <td>folk/country</td>\n",
       "      <td>2.204950</td>\n",
       "      <td>1010.0</td>\n",
       "      <td>1</td>\n",
       "    </tr>\n",
       "  </tbody>\n",
       "</table>\n",
       "</div>"
      ],
      "text/plain": [
       "          genre      mean   count  rank\n",
       "6          rock  3.763366  1010.0     7\n",
       "5       pop/r&b  3.473267  1010.0     6\n",
       "4           rap  2.910891  1010.0     5\n",
       "3          jazz  2.761386  1010.0     4\n",
       "2         metal  2.360396  1010.0     3\n",
       "1    electronic  2.336634  1010.0     2\n",
       "0  folk/country  2.204950  1010.0     1"
      ]
     },
     "execution_count": 24,
     "metadata": {},
     "output_type": "execute_result"
    }
   ],
   "source": [
    "# Aggreagation\n",
    "yp_agg = yp_music_df.agg([\"mean\",\"count\"])\n",
    "yp_agg = yp_agg.rename(rename_dict, axis = \"columns\").transpose()\n",
    "yp_agg = yp_agg.sort_values(by=\"mean\", ascending = True)\n",
    "yp_agg = yp_agg.reset_index()\n",
    "yp_agg = yp_agg.rename({\"index\":\"genre\"}, axis = \"columns\")\n",
    "\n",
    "# Give each Genry a Rank according to mean. With highest Ranknumber = Highes Popularity\n",
    "yp_agg[\"rank\"] = list(range(1,len(yp_agg)+1))\n",
    "yp_agg.sort_values(\"rank\", ascending = False)"
   ]
  },
  {
   "cell_type": "markdown",
   "metadata": {},
   "source": [
    "### Merging Aggregations of YP and Pitchfork"
   ]
  },
  {
   "cell_type": "code",
   "execution_count": 25,
   "metadata": {
    "scrolled": true
   },
   "outputs": [
    {
     "data": {
      "text/html": [
       "<div>\n",
       "<style scoped>\n",
       "    .dataframe tbody tr th:only-of-type {\n",
       "        vertical-align: middle;\n",
       "    }\n",
       "\n",
       "    .dataframe tbody tr th {\n",
       "        vertical-align: top;\n",
       "    }\n",
       "\n",
       "    .dataframe thead th {\n",
       "        text-align: right;\n",
       "    }\n",
       "</style>\n",
       "<table border=\"1\" class=\"dataframe\">\n",
       "  <thead>\n",
       "    <tr style=\"text-align: right;\">\n",
       "      <th></th>\n",
       "      <th>mean_yp</th>\n",
       "      <th>count</th>\n",
       "      <th>rank_yp</th>\n",
       "      <th>mean_pf</th>\n",
       "      <th>rank_pf</th>\n",
       "    </tr>\n",
       "    <tr>\n",
       "      <th>genre</th>\n",
       "      <th></th>\n",
       "      <th></th>\n",
       "      <th></th>\n",
       "      <th></th>\n",
       "      <th></th>\n",
       "    </tr>\n",
       "  </thead>\n",
       "  <tbody>\n",
       "    <tr>\n",
       "      <th>rock</th>\n",
       "      <td>3.763366</td>\n",
       "      <td>1010.0</td>\n",
       "      <td>7</td>\n",
       "      <td>3.763719</td>\n",
       "      <td>5</td>\n",
       "    </tr>\n",
       "    <tr>\n",
       "      <th>pop/r&amp;b</th>\n",
       "      <td>3.473267</td>\n",
       "      <td>1010.0</td>\n",
       "      <td>6</td>\n",
       "      <td>3.727555</td>\n",
       "      <td>1</td>\n",
       "    </tr>\n",
       "    <tr>\n",
       "      <th>rap</th>\n",
       "      <td>2.910891</td>\n",
       "      <td>1010.0</td>\n",
       "      <td>5</td>\n",
       "      <td>3.743891</td>\n",
       "      <td>3</td>\n",
       "    </tr>\n",
       "    <tr>\n",
       "      <th>jazz</th>\n",
       "      <td>2.761386</td>\n",
       "      <td>1010.0</td>\n",
       "      <td>4</td>\n",
       "      <td>3.888034</td>\n",
       "      <td>7</td>\n",
       "    </tr>\n",
       "    <tr>\n",
       "      <th>metal</th>\n",
       "      <td>2.360396</td>\n",
       "      <td>1010.0</td>\n",
       "      <td>3</td>\n",
       "      <td>3.732195</td>\n",
       "      <td>2</td>\n",
       "    </tr>\n",
       "    <tr>\n",
       "      <th>electronic</th>\n",
       "      <td>2.336634</td>\n",
       "      <td>1010.0</td>\n",
       "      <td>2</td>\n",
       "      <td>3.751600</td>\n",
       "      <td>4</td>\n",
       "    </tr>\n",
       "    <tr>\n",
       "      <th>folk/country</th>\n",
       "      <td>2.204950</td>\n",
       "      <td>1010.0</td>\n",
       "      <td>1</td>\n",
       "      <td>3.865215</td>\n",
       "      <td>6</td>\n",
       "    </tr>\n",
       "  </tbody>\n",
       "</table>\n",
       "</div>"
      ],
      "text/plain": [
       "               mean_yp   count  rank_yp   mean_pf  rank_pf\n",
       "genre                                                     \n",
       "rock          3.763366  1010.0        7  3.763719        5\n",
       "pop/r&b       3.473267  1010.0        6  3.727555        1\n",
       "rap           2.910891  1010.0        5  3.743891        3\n",
       "jazz          2.761386  1010.0        4  3.888034        7\n",
       "metal         2.360396  1010.0        3  3.732195        2\n",
       "electronic    2.336634  1010.0        2  3.751600        4\n",
       "folk/country  2.204950  1010.0        1  3.865215        6"
      ]
     },
     "execution_count": 25,
     "metadata": {},
     "output_type": "execute_result"
    }
   ],
   "source": [
    "agg = yp_agg.merge(pf_agg, on = \"genre\", suffixes=('_yp', '_pf')).sort_values(\"mean_yp\", ascending = False)\n",
    "agg = agg.set_index(\"genre\")\n",
    "agg.mean_pf=agg.mean_pf\n",
    "agg"
   ]
  },
  {
   "cell_type": "code",
   "execution_count": 26,
   "metadata": {},
   "outputs": [
    {
     "data": {
      "text/plain": [
       "genre\n",
       "electronic      2921\n",
       "folk/country     519\n",
       "jazz             351\n",
       "metal            621\n",
       "pop/r&b          988\n",
       "rap              987\n",
       "rock            7481\n",
       "Name: count, dtype: int64"
      ]
     },
     "execution_count": 26,
     "metadata": {},
     "output_type": "execute_result"
    }
   ],
   "source": [
    "pf_ns"
   ]
  },
  {
   "cell_type": "code",
   "execution_count": null,
   "metadata": {},
   "outputs": [],
   "source": []
  },
  {
   "cell_type": "code",
   "execution_count": 27,
   "metadata": {},
   "outputs": [
    {
     "data": {
      "image/png": "[encoded data removed]",
      "text/plain": [
       "<Figure size 720x432 with 1 Axes>"
      ]
     },
     "metadata": {},
     "output_type": "display_data"
    }
   ],
   "source": [
    "plt.style.use(\"ggplot\")\n",
    "fig = plt.figure(figsize = (10,6))\n",
    "pos = np.asarray(list(range(7)))\n",
    "plt.bar(pos - 0.125,agg[\"rank_yp\"],width=0.25)\n",
    "plt.bar(pos + 0.125,agg[\"rank_pf\"], width=0.25)\n",
    "plt.xticks(pos, [f\"{genre} \\n n(pf) = {pf_ns.loc[genre]} \\nn(yp) = {len(yp_music_df)}\" for genre in agg.index])\n",
    "plt.title(\"Rank of Appreciation by music Genre\")\n",
    "plt.ylabel(\"Popularity Rank (The higher the more liked)\")\n",
    "plt.legend(title = \"groups\", loc = \"upper right\", labels = [\"Young People (yp)\",\"Pitchfork (pf)\"], bbox_to_anchor=(0.9,1))\n",
    "plt.show()"
   ]
  },
  {
   "cell_type": "markdown",
   "metadata": {},
   "source": [
    "### Man-Whitney Test"
   ]
  },
  {
   "cell_type": "code",
   "execution_count": 28,
   "metadata": {},
   "outputs": [],
   "source": [
    "yp_means = agg.mean_yp\n",
    "pf_means = agg.mean_pf"
   ]
  },
  {
   "cell_type": "code",
   "execution_count": 29,
   "metadata": {
    "scrolled": false
   },
   "outputs": [
    {
     "data": {
      "text/plain": [
       "MannwhitneyuResult(statistic=4.0, pvalue=0.005301672691061329)"
      ]
     },
     "execution_count": 29,
     "metadata": {},
     "output_type": "execute_result"
    }
   ],
   "source": [
    "stats.mannwhitneyu(yp_means,pf_means)"
   ]
  },
  {
   "cell_type": "markdown",
   "metadata": {},
   "source": [
    "## Result\n",
    "\n",
    "H0 can be rejected the Ranking of Pitchfork Users music preferences are different from the Young Students music Preferences"
   ]
  },
  {
   "cell_type": "code",
   "execution_count": null,
   "metadata": {},
   "outputs": [],
   "source": []
  },
  {
   "cell_type": "markdown",
   "metadata": {},
   "source": [
    "# Hypothesis # 2"
   ]
  },
  {
   "cell_type": "markdown",
   "metadata": {},
   "source": [
    "## Analysing students that are an Only Child, and their happiness in life.\n",
    "\n",
    "\n",
    "H_0 => students that are an only child are ***just as happy in life, if not more happy** than students that have children\n",
    "\n",
    "> 𝐻_0 : The mean difference between treatment and control groups is zero. i.e. M(experiment) = M(control)\n",
    "\n",
    "H_a => students that are an only child are less happy in life\n",
    "\n",
    "> 𝐻_1: (1-tailed, <): The mean difference between experiment and control groups, is less than zero (negative).\n",
    "\n",
    "\n"
   ]
  },
  {
   "cell_type": "code",
   "execution_count": 2,
   "metadata": {},
   "outputs": [
    {
     "data": {
      "text/html": [
       "<div>\n",
       "<style scoped>\n",
       "    .dataframe tbody tr th:only-of-type {\n",
       "        vertical-align: middle;\n",
       "    }\n",
       "\n",
       "    .dataframe tbody tr th {\n",
       "        vertical-align: top;\n",
       "    }\n",
       "\n",
       "    .dataframe thead th {\n",
       "        text-align: right;\n",
       "    }\n",
       "</style>\n",
       "<table border=\"1\" class=\"dataframe\">\n",
       "  <thead>\n",
       "    <tr style=\"text-align: right;\">\n",
       "      <th></th>\n",
       "      <th>Music</th>\n",
       "      <th>Slow songs or fast songs</th>\n",
       "      <th>Dance</th>\n",
       "      <th>Folk</th>\n",
       "      <th>Country</th>\n",
       "      <th>Classical music</th>\n",
       "      <th>Musical</th>\n",
       "      <th>Pop</th>\n",
       "      <th>Rock</th>\n",
       "      <th>Metal or Hardrock</th>\n",
       "      <th>...</th>\n",
       "      <th>Age</th>\n",
       "      <th>Height</th>\n",
       "      <th>Weight</th>\n",
       "      <th>Number of siblings</th>\n",
       "      <th>Gender</th>\n",
       "      <th>Left - right handed</th>\n",
       "      <th>Education</th>\n",
       "      <th>Only child</th>\n",
       "      <th>Village - town</th>\n",
       "      <th>House - block of flats</th>\n",
       "    </tr>\n",
       "  </thead>\n",
       "  <tbody>\n",
       "    <tr>\n",
       "      <th>0</th>\n",
       "      <td>5.0</td>\n",
       "      <td>3.0</td>\n",
       "      <td>2.0</td>\n",
       "      <td>1.0</td>\n",
       "      <td>2.0</td>\n",
       "      <td>2.0</td>\n",
       "      <td>1.0</td>\n",
       "      <td>5.0</td>\n",
       "      <td>5.0</td>\n",
       "      <td>1.0</td>\n",
       "      <td>...</td>\n",
       "      <td>20.0</td>\n",
       "      <td>163.0</td>\n",
       "      <td>48.0</td>\n",
       "      <td>1.0</td>\n",
       "      <td>female</td>\n",
       "      <td>right handed</td>\n",
       "      <td>college/bachelor degree</td>\n",
       "      <td>no</td>\n",
       "      <td>village</td>\n",
       "      <td>block of flats</td>\n",
       "    </tr>\n",
       "    <tr>\n",
       "      <th>1</th>\n",
       "      <td>4.0</td>\n",
       "      <td>4.0</td>\n",
       "      <td>2.0</td>\n",
       "      <td>1.0</td>\n",
       "      <td>1.0</td>\n",
       "      <td>1.0</td>\n",
       "      <td>2.0</td>\n",
       "      <td>3.0</td>\n",
       "      <td>5.0</td>\n",
       "      <td>4.0</td>\n",
       "      <td>...</td>\n",
       "      <td>19.0</td>\n",
       "      <td>163.0</td>\n",
       "      <td>58.0</td>\n",
       "      <td>2.0</td>\n",
       "      <td>female</td>\n",
       "      <td>right handed</td>\n",
       "      <td>college/bachelor degree</td>\n",
       "      <td>no</td>\n",
       "      <td>city</td>\n",
       "      <td>block of flats</td>\n",
       "    </tr>\n",
       "    <tr>\n",
       "      <th>2</th>\n",
       "      <td>5.0</td>\n",
       "      <td>5.0</td>\n",
       "      <td>2.0</td>\n",
       "      <td>2.0</td>\n",
       "      <td>3.0</td>\n",
       "      <td>4.0</td>\n",
       "      <td>5.0</td>\n",
       "      <td>3.0</td>\n",
       "      <td>5.0</td>\n",
       "      <td>3.0</td>\n",
       "      <td>...</td>\n",
       "      <td>20.0</td>\n",
       "      <td>176.0</td>\n",
       "      <td>67.0</td>\n",
       "      <td>2.0</td>\n",
       "      <td>female</td>\n",
       "      <td>right handed</td>\n",
       "      <td>secondary school</td>\n",
       "      <td>no</td>\n",
       "      <td>city</td>\n",
       "      <td>block of flats</td>\n",
       "    </tr>\n",
       "    <tr>\n",
       "      <th>3</th>\n",
       "      <td>5.0</td>\n",
       "      <td>3.0</td>\n",
       "      <td>2.0</td>\n",
       "      <td>1.0</td>\n",
       "      <td>1.0</td>\n",
       "      <td>1.0</td>\n",
       "      <td>1.0</td>\n",
       "      <td>2.0</td>\n",
       "      <td>2.0</td>\n",
       "      <td>1.0</td>\n",
       "      <td>...</td>\n",
       "      <td>22.0</td>\n",
       "      <td>172.0</td>\n",
       "      <td>59.0</td>\n",
       "      <td>1.0</td>\n",
       "      <td>female</td>\n",
       "      <td>right handed</td>\n",
       "      <td>college/bachelor degree</td>\n",
       "      <td>yes</td>\n",
       "      <td>city</td>\n",
       "      <td>house/bungalow</td>\n",
       "    </tr>\n",
       "    <tr>\n",
       "      <th>4</th>\n",
       "      <td>5.0</td>\n",
       "      <td>3.0</td>\n",
       "      <td>4.0</td>\n",
       "      <td>3.0</td>\n",
       "      <td>2.0</td>\n",
       "      <td>4.0</td>\n",
       "      <td>3.0</td>\n",
       "      <td>5.0</td>\n",
       "      <td>3.0</td>\n",
       "      <td>1.0</td>\n",
       "      <td>...</td>\n",
       "      <td>20.0</td>\n",
       "      <td>170.0</td>\n",
       "      <td>59.0</td>\n",
       "      <td>1.0</td>\n",
       "      <td>female</td>\n",
       "      <td>right handed</td>\n",
       "      <td>secondary school</td>\n",
       "      <td>no</td>\n",
       "      <td>village</td>\n",
       "      <td>house/bungalow</td>\n",
       "    </tr>\n",
       "  </tbody>\n",
       "</table>\n",
       "<p>5 rows × 150 columns</p>\n",
       "</div>"
      ],
      "text/plain": [
       "   Music  Slow songs or fast songs  Dance  Folk  Country  Classical music  \\\n",
       "0    5.0                       3.0    2.0   1.0      2.0              2.0   \n",
       "1    4.0                       4.0    2.0   1.0      1.0              1.0   \n",
       "2    5.0                       5.0    2.0   2.0      3.0              4.0   \n",
       "3    5.0                       3.0    2.0   1.0      1.0              1.0   \n",
       "4    5.0                       3.0    4.0   3.0      2.0              4.0   \n",
       "\n",
       "   Musical  Pop  Rock  Metal or Hardrock           ...             Age  \\\n",
       "0      1.0  5.0   5.0                1.0           ...            20.0   \n",
       "1      2.0  3.0   5.0                4.0           ...            19.0   \n",
       "2      5.0  3.0   5.0                3.0           ...            20.0   \n",
       "3      1.0  2.0   2.0                1.0           ...            22.0   \n",
       "4      3.0  5.0   3.0                1.0           ...            20.0   \n",
       "\n",
       "   Height  Weight  Number of siblings  Gender  Left - right handed  \\\n",
       "0   163.0    48.0                 1.0  female         right handed   \n",
       "1   163.0    58.0                 2.0  female         right handed   \n",
       "2   176.0    67.0                 2.0  female         right handed   \n",
       "3   172.0    59.0                 1.0  female         right handed   \n",
       "4   170.0    59.0                 1.0  female         right handed   \n",
       "\n",
       "                 Education  Only child  Village - town  House - block of flats  \n",
       "0  college/bachelor degree          no         village          block of flats  \n",
       "1  college/bachelor degree          no            city          block of flats  \n",
       "2         secondary school          no            city          block of flats  \n",
       "3  college/bachelor degree         yes            city          house/bungalow  \n",
       "4         secondary school          no         village          house/bungalow  \n",
       "\n",
       "[5 rows x 150 columns]"
      ]
     },
     "execution_count": 2,
     "metadata": {},
     "output_type": "execute_result"
    }
   ],
   "source": [
    "# load data\n",
    "students = pd.read_csv(\"responses.csv\")\n",
    "students.head()"
   ]
  },
  {
   "cell_type": "code",
   "execution_count": null,
   "metadata": {},
   "outputs": [],
   "source": []
  },
  {
   "cell_type": "code",
   "execution_count": 3,
   "metadata": {},
   "outputs": [
    {
     "data": {
      "text/plain": [
       "count    252.000000\n",
       "mean       3.670635\n",
       "std        0.918302\n",
       "min        1.000000\n",
       "25%        3.000000\n",
       "50%        4.000000\n",
       "75%        4.000000\n",
       "max        5.000000\n",
       "Name: Happiness in life, dtype: float64"
      ]
     },
     "execution_count": 3,
     "metadata": {},
     "output_type": "execute_result"
    }
   ],
   "source": [
    "# create sample of 'Happiness in life' scores for students that are an Only Child (experiment)\n",
    "# create sample of 'Happiness in life' scores for students that have siblings (control)\n",
    "# keep both groups size the same\n",
    "\n",
    "oc_happiness = students['Happiness in life'][students['Only child'] == 'yes'].dropna()\n",
    "sibl_happiness = students['Happiness in life'][students['Only child'] == 'no'].dropna()\n",
    "\n",
    "oc_happiness.describe()"
   ]
  },
  {
   "cell_type": "code",
   "execution_count": 4,
   "metadata": {},
   "outputs": [
    {
     "data": {
      "text/plain": [
       "count    752.000000\n",
       "mean       3.716755\n",
       "std        0.791658\n",
       "min        1.000000\n",
       "25%        3.000000\n",
       "50%        4.000000\n",
       "75%        4.000000\n",
       "max        5.000000\n",
       "Name: Happiness in life, dtype: float64"
      ]
     },
     "execution_count": 4,
     "metadata": {},
     "output_type": "execute_result"
    }
   ],
   "source": [
    "sibl_happiness.describe()"
   ]
  },
  {
   "cell_type": "code",
   "execution_count": 5,
   "metadata": {},
   "outputs": [
    {
     "name": "stderr",
     "output_type": "stream",
     "text": [
      "/Users/Frankie/anaconda3/lib/python3.7/site-packages/scipy/stats/stats.py:1713: FutureWarning: Using a non-tuple sequence for multidimensional indexing is deprecated; use `arr[tuple(seq)]` instead of `arr[seq]`. In the future this will be interpreted as an array index, `arr[np.array(seq)]`, which will result either in an error or a different result.\n",
      "  return np.add.reduce(sorted[indexer] * weights, axis=axis) / sumval\n"
     ]
    },
    {
     "data": {
      "text/plain": [
       "<matplotlib.axes._subplots.AxesSubplot at 0x7f83005559b0>"
      ]
     },
     "execution_count": 5,
     "metadata": {},
     "output_type": "execute_result"
    },
    {
     "data": {
      "image/png": "[encoded data removed]",
      "text/plain": [
       "<Figure size 864x720 with 1 Axes>"
      ]
     },
     "metadata": {
      "image/png": {
       "height": 595,
       "width": 711
      }
     },
     "output_type": "display_data"
    }
   ],
   "source": [
    "# plot the distribution of both samples\n",
    "\n",
    "sns.set(color_codes=True)\n",
    "sns.set(rc={'figure.figsize':(12,10)})\n",
    "sns.distplot(oc_happiness) # Blue distribution\n",
    "sns.distplot(sibl_happiness) # Orange distribution"
   ]
  },
  {
   "cell_type": "code",
   "execution_count": 6,
   "metadata": {},
   "outputs": [
    {
     "data": {
      "text/plain": [
       "Ttest_indResult(statistic=-0.71337518290812, pvalue=0.47604734807129)"
      ]
     },
     "execution_count": 6,
     "metadata": {},
     "output_type": "execute_result"
    }
   ],
   "source": [
    "# Run a 2 sample ttest on your samples\n",
    "\n",
    "'''\n",
    "Calculates the T-test for the means of *two independent* samples of scores.\n",
    "\n",
    "This is a two-sided test for the null hypothesis that 2 independent samples\n",
    "have identical average (expected) values. This test assumes that the\n",
    "populations have identical variances by default.\n",
    "\n",
    "'''\n",
    "\n",
    "stats.ttest_ind(oc_happiness, sibl_happiness, equal_var = False)"
   ]
  },
  {
   "cell_type": "markdown",
   "metadata": {},
   "source": [
    "# Observations\n",
    "\n"
   ]
  },
  {
   "cell_type": "markdown",
   "metadata": {},
   "source": [
    "## “being an only child has no effect on your happiness in life!”\n",
    "\n",
    "After running a Two-Sample t-test on score results from students who are an only child (experiment group), and students with siblings (control group), we concluded that though the mean averages were not equal, their difference was not statistically significant, therefore we fail to reject the null hypothesis"
   ]
  },
  {
   "cell_type": "code",
   "execution_count": null,
   "metadata": {},
   "outputs": [],
   "source": []
  },
  {
   "cell_type": "code",
   "execution_count": null,
   "metadata": {},
   "outputs": [],
   "source": []
  },
  {
   "cell_type": "markdown",
   "metadata": {},
   "source": [
    "# Hypothesis # 3: Music Genres vs. Movie Genres\n",
    "\n",
    "At this point, we want to test the suggestion that students with similar taste in music also have similar taste in movies. We will focus on Metal & Hard Rock listeners and their affinity of Horror movies, and will use a **Chi-Squared Independence test** to see how Horror movie score correlates to Metal & Hard Rock score\n",
    "\n",
    "Our Hypothesis statement is as follows:\n",
    "\n",
    "> H_0 => There is **NO** statistically significant relationship between Metal & Hard Rock scores and Horror movie scores.\n",
    "\n",
    "> H_a => There is a statistically significant relationship between Metal & Hard Rock scores and Horror movie scores.\n"
   ]
  },
  {
   "cell_type": "code",
   "execution_count": 7,
   "metadata": {},
   "outputs": [
    {
     "data": {
      "text/html": [
       "<div>\n",
       "<style scoped>\n",
       "    .dataframe tbody tr th:only-of-type {\n",
       "        vertical-align: middle;\n",
       "    }\n",
       "\n",
       "    .dataframe tbody tr th {\n",
       "        vertical-align: top;\n",
       "    }\n",
       "\n",
       "    .dataframe thead th {\n",
       "        text-align: right;\n",
       "    }\n",
       "</style>\n",
       "<table border=\"1\" class=\"dataframe\">\n",
       "  <thead>\n",
       "    <tr style=\"text-align: right;\">\n",
       "      <th></th>\n",
       "      <th>Metal or Hardrock</th>\n",
       "      <th>Horror</th>\n",
       "    </tr>\n",
       "  </thead>\n",
       "  <tbody>\n",
       "    <tr>\n",
       "      <th>count</th>\n",
       "      <td>1005.000000</td>\n",
       "      <td>1005.000000</td>\n",
       "    </tr>\n",
       "    <tr>\n",
       "      <th>mean</th>\n",
       "      <td>2.360199</td>\n",
       "      <td>2.789055</td>\n",
       "    </tr>\n",
       "    <tr>\n",
       "      <th>std</th>\n",
       "      <td>1.371163</td>\n",
       "      <td>1.409727</td>\n",
       "    </tr>\n",
       "    <tr>\n",
       "      <th>min</th>\n",
       "      <td>1.000000</td>\n",
       "      <td>1.000000</td>\n",
       "    </tr>\n",
       "    <tr>\n",
       "      <th>25%</th>\n",
       "      <td>1.000000</td>\n",
       "      <td>1.000000</td>\n",
       "    </tr>\n",
       "    <tr>\n",
       "      <th>50%</th>\n",
       "      <td>2.000000</td>\n",
       "      <td>3.000000</td>\n",
       "    </tr>\n",
       "    <tr>\n",
       "      <th>75%</th>\n",
       "      <td>3.000000</td>\n",
       "      <td>4.000000</td>\n",
       "    </tr>\n",
       "    <tr>\n",
       "      <th>max</th>\n",
       "      <td>5.000000</td>\n",
       "      <td>5.000000</td>\n",
       "    </tr>\n",
       "  </tbody>\n",
       "</table>\n",
       "</div>"
      ],
      "text/plain": [
       "       Metal or Hardrock       Horror\n",
       "count        1005.000000  1005.000000\n",
       "mean            2.360199     2.789055\n",
       "std             1.371163     1.409727\n",
       "min             1.000000     1.000000\n",
       "25%             1.000000     1.000000\n",
       "50%             2.000000     3.000000\n",
       "75%             3.000000     4.000000\n",
       "max             5.000000     5.000000"
      ]
     },
     "execution_count": 7,
     "metadata": {},
     "output_type": "execute_result"
    }
   ],
   "source": [
    "# let's get some summary statistics on both scores\n",
    "students[['Metal or Hardrock', 'Horror']].dropna().describe()"
   ]
  },
  {
   "cell_type": "code",
   "execution_count": null,
   "metadata": {},
   "outputs": [],
   "source": []
  },
  {
   "cell_type": "code",
   "execution_count": 8,
   "metadata": {},
   "outputs": [
    {
     "data": {
      "text/html": [
       "<div>\n",
       "<style scoped>\n",
       "    .dataframe tbody tr th:only-of-type {\n",
       "        vertical-align: middle;\n",
       "    }\n",
       "\n",
       "    .dataframe tbody tr th {\n",
       "        vertical-align: top;\n",
       "    }\n",
       "\n",
       "    .dataframe thead th {\n",
       "        text-align: right;\n",
       "    }\n",
       "</style>\n",
       "<table border=\"1\" class=\"dataframe\">\n",
       "  <thead>\n",
       "    <tr style=\"text-align: right;\">\n",
       "      <th>Horror</th>\n",
       "      <th>1.0</th>\n",
       "      <th>2.0</th>\n",
       "      <th>3.0</th>\n",
       "      <th>4.0</th>\n",
       "      <th>5.0</th>\n",
       "      <th>All</th>\n",
       "    </tr>\n",
       "    <tr>\n",
       "      <th>Metal or Hardrock</th>\n",
       "      <th></th>\n",
       "      <th></th>\n",
       "      <th></th>\n",
       "      <th></th>\n",
       "      <th></th>\n",
       "      <th></th>\n",
       "    </tr>\n",
       "  </thead>\n",
       "  <tbody>\n",
       "    <tr>\n",
       "      <th>1.0</th>\n",
       "      <td>106</td>\n",
       "      <td>85</td>\n",
       "      <td>82</td>\n",
       "      <td>54</td>\n",
       "      <td>56</td>\n",
       "      <td>383</td>\n",
       "    </tr>\n",
       "    <tr>\n",
       "      <th>2.0</th>\n",
       "      <td>52</td>\n",
       "      <td>41</td>\n",
       "      <td>47</td>\n",
       "      <td>45</td>\n",
       "      <td>34</td>\n",
       "      <td>219</td>\n",
       "    </tr>\n",
       "    <tr>\n",
       "      <th>3.0</th>\n",
       "      <td>36</td>\n",
       "      <td>35</td>\n",
       "      <td>35</td>\n",
       "      <td>33</td>\n",
       "      <td>25</td>\n",
       "      <td>164</td>\n",
       "    </tr>\n",
       "    <tr>\n",
       "      <th>4.0</th>\n",
       "      <td>36</td>\n",
       "      <td>22</td>\n",
       "      <td>26</td>\n",
       "      <td>26</td>\n",
       "      <td>26</td>\n",
       "      <td>136</td>\n",
       "    </tr>\n",
       "    <tr>\n",
       "      <th>5.0</th>\n",
       "      <td>26</td>\n",
       "      <td>15</td>\n",
       "      <td>23</td>\n",
       "      <td>20</td>\n",
       "      <td>19</td>\n",
       "      <td>103</td>\n",
       "    </tr>\n",
       "    <tr>\n",
       "      <th>All</th>\n",
       "      <td>256</td>\n",
       "      <td>198</td>\n",
       "      <td>213</td>\n",
       "      <td>178</td>\n",
       "      <td>160</td>\n",
       "      <td>1005</td>\n",
       "    </tr>\n",
       "  </tbody>\n",
       "</table>\n",
       "</div>"
      ],
      "text/plain": [
       "Horror             1.0  2.0  3.0  4.0  5.0   All\n",
       "Metal or Hardrock                               \n",
       "1.0                106   85   82   54   56   383\n",
       "2.0                 52   41   47   45   34   219\n",
       "3.0                 36   35   35   33   25   164\n",
       "4.0                 36   22   26   26   26   136\n",
       "5.0                 26   15   23   20   19   103\n",
       "All                256  198  213  178  160  1005"
      ]
     },
     "execution_count": 8,
     "metadata": {},
     "output_type": "execute_result"
    }
   ],
   "source": [
    "# create contigency table for Chi-Squared test\n",
    "\n",
    "contingency_table = pd.crosstab(\n",
    "    students['Metal or Hardrock'],\n",
    "    students['Horror'],\n",
    "    margins = True\n",
    ")\n",
    "\n",
    "contingency_table"
   ]
  },
  {
   "cell_type": "code",
   "execution_count": null,
   "metadata": {},
   "outputs": [],
   "source": []
  },
  {
   "cell_type": "code",
   "execution_count": 9,
   "metadata": {},
   "outputs": [
    {
     "data": {
      "image/png": "[encoded data removed]",
      "text/plain": [
       "<Figure size 720x360 with 1 Axes>"
      ]
     },
     "metadata": {
      "image/png": {
       "height": 343,
       "width": 641
      }
     },
     "output_type": "display_data"
    }
   ],
   "source": [
    "# visualize total of each score on both variables throughout the dataset\n",
    "\n",
    "#assign the frequency of scores for plotting\n",
    "metal = contingency_table.iloc[5,0:5].values\n",
    "horror = contingency_table['All'][0:5]\n",
    "\n",
    "\n",
    "#plot the bar chart\n",
    "fig = plt.figure(figsize=(10, 5))\n",
    "sns.set(font_scale=1.8)\n",
    "scores = [\"1\",\"2\",\"3\",\"4\",\"5\"]\n",
    "p1 = plt.bar(scores, metal, 0.75, color='#d62728')\n",
    "p2 = plt.bar(scores, horror, 0.35, color='#666666')\n",
    "plt.legend((p2[0], p1[0]), ('Metal & Hard Rock', 'Horror'))\n",
    "plt.xlabel('Score')\n",
    "plt.ylabel('Count')\n",
    "plt.show()"
   ]
  },
  {
   "cell_type": "code",
   "execution_count": null,
   "metadata": {},
   "outputs": [],
   "source": []
  },
  {
   "cell_type": "code",
   "execution_count": 10,
   "metadata": {},
   "outputs": [
    {
     "data": {
      "text/plain": [
       "(12.4094776565072, 0.982950866929013, 25)"
      ]
     },
     "execution_count": 10,
     "metadata": {},
     "output_type": "execute_result"
    }
   ],
   "source": [
    "# Run chi-squared test\n",
    "stats.chi2_contingency(contingency_table)[:3] # X2, p-value, degrees of freedom"
   ]
  },
  {
   "cell_type": "code",
   "execution_count": null,
   "metadata": {},
   "outputs": [],
   "source": []
  },
  {
   "cell_type": "markdown",
   "metadata": {},
   "source": [
    "# Observations\n",
    "\n",
    "With p score > .05 we fail to reject null hypothesis,\n",
    "\n",
    "there is no correlation between scores on Metal or Hardrock and scores on Horror movies"
   ]
  },
  {
   "cell_type": "code",
   "execution_count": null,
   "metadata": {},
   "outputs": [],
   "source": []
  },
  {
   "cell_type": "code",
   "execution_count": null,
   "metadata": {},
   "outputs": [],
   "source": []
  },
  {
   "cell_type": "code",
   "execution_count": null,
   "metadata": {},
   "outputs": [],
   "source": []
  },
  {
   "cell_type": "markdown",
   "metadata": {},
   "source": [
    "# Hypothesis #4 Music Type vs. Educational level\n",
    "## Data Preperation"
   ]
  },
  {
   "cell_type": "code",
   "execution_count": 30,
   "metadata": {},
   "outputs": [],
   "source": [
    "#Select Music-Genres from Dataset\n",
    "yp_edu_df = yp_df[[\n",
    "#'Music',\n",
    " 'Dance',\n",
    " 'Folk',\n",
    "'Country',\n",
    "'Classical music',\n",
    "'Musical',\n",
    " 'Pop',\n",
    " 'Rock',\n",
    " 'Metal or Hardrock',\n",
    " 'Punk',\n",
    " 'Hiphop, Rap',\n",
    " 'Reggae, Ska',\n",
    " 'Swing, Jazz',\n",
    " 'Rock n roll',\n",
    " 'Alternative',\n",
    " 'Latino',\n",
    " 'Techno, Trance',\n",
    " 'Opera',\n",
    " #'Folk, Country',\n",
    " 'Education']]"
   ]
  },
  {
   "cell_type": "code",
   "execution_count": 31,
   "metadata": {
    "scrolled": true
   },
   "outputs": [
    {
     "data": {
      "text/plain": [
       "secondary school                    621\n",
       "college/bachelor degree             212\n",
       "masters degree                       81\n",
       "primary school                       80\n",
       "currently a primary school pupil     10\n",
       "doctorate degree                      5\n",
       "Name: Education, dtype: int64"
      ]
     },
     "execution_count": 31,
     "metadata": {},
     "output_type": "execute_result"
    }
   ],
   "source": [
    "yp_edu_df.Education.value_counts()"
   ]
  },
  {
   "cell_type": "markdown",
   "metadata": {},
   "source": [
    "#### Primary School Pupils and Doctorates will be dropped, because of low sample sizes"
   ]
  },
  {
   "cell_type": "code",
   "execution_count": 32,
   "metadata": {},
   "outputs": [
    {
     "name": "stderr",
     "output_type": "stream",
     "text": [
      "/Users/pietrassyk/anaconda3/lib/python3.7/site-packages/ipykernel_launcher.py:1: SettingWithCopyWarning: \n",
      "A value is trying to be set on a copy of a slice from a DataFrame.\n",
      "Try using .loc[row_indexer,col_indexer] = value instead\n",
      "\n",
      "See the caveats in the documentation: http://pandas.pydata.org/pandas-docs/stable/indexing.html#indexing-view-versus-copy\n",
      "  \"\"\"Entry point for launching an IPython kernel.\n"
     ]
    }
   ],
   "source": [
    "yp_edu_df[\"Education\"] = yp_edu_df.Education.apply(lambda x: \"3 MA\" if x== 'masters degree' else \"2 BA\" if x == 'college/bachelor degree' else \"1 Highschool\" if x == 'secondary school' else '0 Primary' if x ==\"primary school\" else x  );\n"
   ]
  },
  {
   "cell_type": "code",
   "execution_count": 33,
   "metadata": {},
   "outputs": [],
   "source": [
    "#Split into Relevant Groups\n",
    "PS_df = yp_edu_df.loc[yp_edu_df.Education == '0 Primary' ]\n",
    "HS_df = yp_edu_df.loc[yp_edu_df.Education == '1 Highschool' ]\n",
    "BA_df = yp_edu_df.loc[yp_edu_df.Education == '2 BA' ]\n",
    "MA_df = yp_edu_df.loc[yp_edu_df.Education == '3 MA' ]\n",
    "\n",
    "#Aggregate\n",
    "PS_agg = PS_df.agg([\"std\",\"mean\"]).transpose().sort_values(\"mean\", ascending = False)\n",
    "HS_agg = HS_df.agg([\"std\",\"mean\"]).transpose().sort_values(\"mean\", ascending = False)\n",
    "BA_agg = BA_df.agg([\"std\",\"mean\"]).transpose().sort_values(\"mean\", ascending = False)\n",
    "MA_agg = MA_df.agg([\"std\",\"mean\"]).transpose().sort_values(\"mean\", ascending = False)\n",
    "\n",
    "\n",
    "#Combine\n",
    "yp_edu_df = pd.concat([PS_df,HS_df,BA_df,MA_df]) #TODO use split feature function instead"
   ]
  },
  {
   "cell_type": "code",
   "execution_count": 34,
   "metadata": {
    "scrolled": false
   },
   "outputs": [
    {
     "data": {
      "image/png": "[encoded data removed]",
      "text/plain": [
       "<Figure size 1440x720 with 1 Axes>"
      ]
     },
     "metadata": {},
     "output_type": "display_data"
    }
   ],
   "source": [
    "plt.style.use(\"ggplot\")\n",
    "plot_df = yp_edu_df.groupby(\"Education\").agg([\"mean\"]).transpose().sort_values(\"2 BA\")\n",
    "plot_df.plot(kind = \"bar\", figsize = (20,10))\n",
    "#plt.axhline(y = yp_edu_df.mean().mean(), ls = \":\", label = \"Avg Rating among Ratings\")\n",
    "plt.title(\"Muic Genre Popularity by Educational Level\")\n",
    "plt.ylabel(\"Mean Scoring (1-5)\")\n",
    "plt.ylim((1,5))\n",
    "plt.xlabel(\"Music Genre\")\n",
    "plt.legend(labels = [f\"Primary School n={len(PS_df)}\",\n",
    "                     f\"Highschool n={len(HS_df)}\",\n",
    "                     f\"BA n={len(BA_df)}\" ,\n",
    "                     f\"MA n={len(MA_df)}\" ]);\n",
    "\n",
    "#TODO: Plot STD"
   ]
  },
  {
   "cell_type": "markdown",
   "metadata": {},
   "source": [
    "## Hypothesis testing for Hypothesis #4"
   ]
  },
  {
   "cell_type": "markdown",
   "metadata": {},
   "source": [
    "### MANOVA approach\n",
    "\n",
    "A one way MANOVA was chosen, because the 17 target Variables(Music Genres) can be handled as numerical Data and there is only one predictor (Education) that can be handled categorically with 4 levels (PA,HS,BA,MA)."
   ]
  },
  {
   "cell_type": "markdown",
   "metadata": {},
   "source": [
    "### Assumptions"
   ]
  },
  {
   "cell_type": "markdown",
   "metadata": {},
   "source": [
    "#1 Obersvations are independant <br>\n",
    "Study design description shows that Observations are independant \n",
    "see https://www.kaggle.com/miroslavsabo/young-people-survey for further information"
   ]
  },
  {
   "cell_type": "code",
   "execution_count": 35,
   "metadata": {},
   "outputs": [
    {
     "name": "stdout",
     "output_type": "stream",
     "text": [
      "<class 'pandas.core.frame.DataFrame'>\n",
      "Int64Index: 994 entries, 11 to 1006\n",
      "Data columns (total 17 columns):\n",
      "Dance                994 non-null float64\n",
      "Folk                 994 non-null float64\n",
      "Country              994 non-null float64\n",
      "Classical music      994 non-null float64\n",
      "Musical              994 non-null float64\n",
      "Pop                  994 non-null float64\n",
      "Rock                 994 non-null float64\n",
      "Metal or Hardrock    994 non-null float64\n",
      "Punk                 994 non-null float64\n",
      "Hiphop, Rap          994 non-null float64\n",
      "Reggae, Ska          994 non-null float64\n",
      "Swing, Jazz          994 non-null float64\n",
      "Rock n roll          994 non-null float64\n",
      "Alternative          994 non-null float64\n",
      "Latino               994 non-null float64\n",
      "Techno, Trance       994 non-null float64\n",
      "Opera                994 non-null float64\n",
      "dtypes: float64(17)\n",
      "memory usage: 179.8 KB\n"
     ]
    }
   ],
   "source": [
    "#2 Dependant Variables are numerical\n",
    "yp_edu_df.drop(\"Education\" ,axis = 1).info()"
   ]
  },
  {
   "cell_type": "code",
   "execution_count": 36,
   "metadata": {},
   "outputs": [],
   "source": [
    "#3 Independant Variable is Nomimanal"
   ]
  },
  {
   "cell_type": "code",
   "execution_count": 37,
   "metadata": {},
   "outputs": [
    {
     "data": {
      "text/plain": [
       "dtype('O')"
      ]
     },
     "execution_count": 37,
     "metadata": {},
     "output_type": "execute_result"
    }
   ],
   "source": [
    "yp_edu_df.Education.dtype"
   ]
  },
  {
   "cell_type": "code",
   "execution_count": 38,
   "metadata": {
    "scrolled": true
   },
   "outputs": [
    {
     "data": {
      "text/plain": [
       "1 Highschool    621\n",
       "2 BA            212\n",
       "3 MA             81\n",
       "0 Primary        80\n",
       "Name: Education, dtype: int64"
      ]
     },
     "execution_count": 38,
     "metadata": {},
     "output_type": "execute_result"
    }
   ],
   "source": [
    "#4 Suffient Observations for each gruop in independant Variable (Education)\n",
    "yp_edu_df.Education.value_counts()"
   ]
  },
  {
   "cell_type": "code",
   "execution_count": 39,
   "metadata": {},
   "outputs": [],
   "source": [
    "#5 Linear Relationship between Dependant Variables\n",
    "#sns.pairplot(yp_edu_df, hue = \"Education\", kind=\"reg\" , plot_kwarg={\"y_jitter\": True, \"x_jitter\": True} )"
   ]
  },
  {
   "cell_type": "code",
   "execution_count": 40,
   "metadata": {
    "scrolled": false
   },
   "outputs": [
    {
     "data": {
      "text/html": [
       "<div>\n",
       "<style scoped>\n",
       "    .dataframe tbody tr th:only-of-type {\n",
       "        vertical-align: middle;\n",
       "    }\n",
       "\n",
       "    .dataframe tbody tr th {\n",
       "        vertical-align: top;\n",
       "    }\n",
       "\n",
       "    .dataframe thead th {\n",
       "        text-align: right;\n",
       "    }\n",
       "</style>\n",
       "<table border=\"1\" class=\"dataframe\">\n",
       "  <thead>\n",
       "    <tr style=\"text-align: right;\">\n",
       "      <th></th>\n",
       "      <th>Dance</th>\n",
       "      <th>Folk</th>\n",
       "      <th>Country</th>\n",
       "      <th>Classical music</th>\n",
       "      <th>Musical</th>\n",
       "      <th>Pop</th>\n",
       "      <th>Rock</th>\n",
       "      <th>Metal or Hardrock</th>\n",
       "      <th>Punk</th>\n",
       "      <th>Hiphop, Rap</th>\n",
       "      <th>Reggae, Ska</th>\n",
       "      <th>Swing, Jazz</th>\n",
       "      <th>Rock n roll</th>\n",
       "      <th>Alternative</th>\n",
       "      <th>Latino</th>\n",
       "      <th>Techno, Trance</th>\n",
       "      <th>Opera</th>\n",
       "    </tr>\n",
       "  </thead>\n",
       "  <tbody>\n",
       "    <tr>\n",
       "      <th>Dance</th>\n",
       "      <td>1</td>\n",
       "      <td></td>\n",
       "      <td></td>\n",
       "      <td></td>\n",
       "      <td></td>\n",
       "      <td></td>\n",
       "      <td></td>\n",
       "      <td></td>\n",
       "      <td></td>\n",
       "      <td></td>\n",
       "      <td></td>\n",
       "      <td></td>\n",
       "      <td></td>\n",
       "      <td></td>\n",
       "      <td></td>\n",
       "      <td></td>\n",
       "      <td></td>\n",
       "    </tr>\n",
       "    <tr>\n",
       "      <th>Folk</th>\n",
       "      <td></td>\n",
       "      <td>1</td>\n",
       "      <td></td>\n",
       "      <td></td>\n",
       "      <td></td>\n",
       "      <td></td>\n",
       "      <td></td>\n",
       "      <td></td>\n",
       "      <td></td>\n",
       "      <td></td>\n",
       "      <td></td>\n",
       "      <td></td>\n",
       "      <td></td>\n",
       "      <td></td>\n",
       "      <td></td>\n",
       "      <td></td>\n",
       "      <td></td>\n",
       "    </tr>\n",
       "    <tr>\n",
       "      <th>Country</th>\n",
       "      <td></td>\n",
       "      <td></td>\n",
       "      <td>1</td>\n",
       "      <td></td>\n",
       "      <td></td>\n",
       "      <td></td>\n",
       "      <td></td>\n",
       "      <td></td>\n",
       "      <td></td>\n",
       "      <td></td>\n",
       "      <td></td>\n",
       "      <td></td>\n",
       "      <td></td>\n",
       "      <td></td>\n",
       "      <td></td>\n",
       "      <td></td>\n",
       "      <td></td>\n",
       "    </tr>\n",
       "    <tr>\n",
       "      <th>Classical music</th>\n",
       "      <td></td>\n",
       "      <td></td>\n",
       "      <td></td>\n",
       "      <td>1</td>\n",
       "      <td></td>\n",
       "      <td></td>\n",
       "      <td></td>\n",
       "      <td></td>\n",
       "      <td></td>\n",
       "      <td></td>\n",
       "      <td></td>\n",
       "      <td></td>\n",
       "      <td></td>\n",
       "      <td></td>\n",
       "      <td></td>\n",
       "      <td></td>\n",
       "      <td>0.593175</td>\n",
       "    </tr>\n",
       "    <tr>\n",
       "      <th>Musical</th>\n",
       "      <td></td>\n",
       "      <td></td>\n",
       "      <td></td>\n",
       "      <td></td>\n",
       "      <td>1</td>\n",
       "      <td></td>\n",
       "      <td></td>\n",
       "      <td></td>\n",
       "      <td></td>\n",
       "      <td></td>\n",
       "      <td></td>\n",
       "      <td></td>\n",
       "      <td></td>\n",
       "      <td></td>\n",
       "      <td></td>\n",
       "      <td></td>\n",
       "      <td></td>\n",
       "    </tr>\n",
       "    <tr>\n",
       "      <th>Pop</th>\n",
       "      <td></td>\n",
       "      <td></td>\n",
       "      <td></td>\n",
       "      <td></td>\n",
       "      <td></td>\n",
       "      <td>1</td>\n",
       "      <td></td>\n",
       "      <td></td>\n",
       "      <td></td>\n",
       "      <td></td>\n",
       "      <td></td>\n",
       "      <td></td>\n",
       "      <td></td>\n",
       "      <td></td>\n",
       "      <td></td>\n",
       "      <td></td>\n",
       "      <td></td>\n",
       "    </tr>\n",
       "    <tr>\n",
       "      <th>Rock</th>\n",
       "      <td></td>\n",
       "      <td></td>\n",
       "      <td></td>\n",
       "      <td></td>\n",
       "      <td></td>\n",
       "      <td></td>\n",
       "      <td>1</td>\n",
       "      <td>0.53479</td>\n",
       "      <td>0.515364</td>\n",
       "      <td></td>\n",
       "      <td></td>\n",
       "      <td></td>\n",
       "      <td></td>\n",
       "      <td></td>\n",
       "      <td></td>\n",
       "      <td></td>\n",
       "      <td></td>\n",
       "    </tr>\n",
       "    <tr>\n",
       "      <th>Metal or Hardrock</th>\n",
       "      <td></td>\n",
       "      <td></td>\n",
       "      <td></td>\n",
       "      <td></td>\n",
       "      <td></td>\n",
       "      <td></td>\n",
       "      <td>0.53479</td>\n",
       "      <td>1</td>\n",
       "      <td>0.549746</td>\n",
       "      <td></td>\n",
       "      <td></td>\n",
       "      <td></td>\n",
       "      <td></td>\n",
       "      <td></td>\n",
       "      <td></td>\n",
       "      <td></td>\n",
       "      <td></td>\n",
       "    </tr>\n",
       "    <tr>\n",
       "      <th>Punk</th>\n",
       "      <td></td>\n",
       "      <td></td>\n",
       "      <td></td>\n",
       "      <td></td>\n",
       "      <td></td>\n",
       "      <td></td>\n",
       "      <td>0.515364</td>\n",
       "      <td>0.549746</td>\n",
       "      <td>1</td>\n",
       "      <td></td>\n",
       "      <td></td>\n",
       "      <td></td>\n",
       "      <td></td>\n",
       "      <td></td>\n",
       "      <td></td>\n",
       "      <td></td>\n",
       "      <td></td>\n",
       "    </tr>\n",
       "    <tr>\n",
       "      <th>Hiphop, Rap</th>\n",
       "      <td></td>\n",
       "      <td></td>\n",
       "      <td></td>\n",
       "      <td></td>\n",
       "      <td></td>\n",
       "      <td></td>\n",
       "      <td></td>\n",
       "      <td></td>\n",
       "      <td></td>\n",
       "      <td>1</td>\n",
       "      <td></td>\n",
       "      <td></td>\n",
       "      <td></td>\n",
       "      <td></td>\n",
       "      <td></td>\n",
       "      <td></td>\n",
       "      <td></td>\n",
       "    </tr>\n",
       "    <tr>\n",
       "      <th>Reggae, Ska</th>\n",
       "      <td></td>\n",
       "      <td></td>\n",
       "      <td></td>\n",
       "      <td></td>\n",
       "      <td></td>\n",
       "      <td></td>\n",
       "      <td></td>\n",
       "      <td></td>\n",
       "      <td></td>\n",
       "      <td></td>\n",
       "      <td>1</td>\n",
       "      <td></td>\n",
       "      <td></td>\n",
       "      <td></td>\n",
       "      <td></td>\n",
       "      <td></td>\n",
       "      <td></td>\n",
       "    </tr>\n",
       "    <tr>\n",
       "      <th>Swing, Jazz</th>\n",
       "      <td></td>\n",
       "      <td></td>\n",
       "      <td></td>\n",
       "      <td></td>\n",
       "      <td></td>\n",
       "      <td></td>\n",
       "      <td></td>\n",
       "      <td></td>\n",
       "      <td></td>\n",
       "      <td></td>\n",
       "      <td></td>\n",
       "      <td>1</td>\n",
       "      <td></td>\n",
       "      <td></td>\n",
       "      <td></td>\n",
       "      <td></td>\n",
       "      <td></td>\n",
       "    </tr>\n",
       "    <tr>\n",
       "      <th>Rock n roll</th>\n",
       "      <td></td>\n",
       "      <td></td>\n",
       "      <td></td>\n",
       "      <td></td>\n",
       "      <td></td>\n",
       "      <td></td>\n",
       "      <td></td>\n",
       "      <td></td>\n",
       "      <td></td>\n",
       "      <td></td>\n",
       "      <td></td>\n",
       "      <td></td>\n",
       "      <td>1</td>\n",
       "      <td></td>\n",
       "      <td></td>\n",
       "      <td></td>\n",
       "      <td></td>\n",
       "    </tr>\n",
       "    <tr>\n",
       "      <th>Alternative</th>\n",
       "      <td></td>\n",
       "      <td></td>\n",
       "      <td></td>\n",
       "      <td></td>\n",
       "      <td></td>\n",
       "      <td></td>\n",
       "      <td></td>\n",
       "      <td></td>\n",
       "      <td></td>\n",
       "      <td></td>\n",
       "      <td></td>\n",
       "      <td></td>\n",
       "      <td></td>\n",
       "      <td>1</td>\n",
       "      <td></td>\n",
       "      <td></td>\n",
       "      <td></td>\n",
       "    </tr>\n",
       "    <tr>\n",
       "      <th>Latino</th>\n",
       "      <td></td>\n",
       "      <td></td>\n",
       "      <td></td>\n",
       "      <td></td>\n",
       "      <td></td>\n",
       "      <td></td>\n",
       "      <td></td>\n",
       "      <td></td>\n",
       "      <td></td>\n",
       "      <td></td>\n",
       "      <td></td>\n",
       "      <td></td>\n",
       "      <td></td>\n",
       "      <td></td>\n",
       "      <td>1</td>\n",
       "      <td></td>\n",
       "      <td></td>\n",
       "    </tr>\n",
       "    <tr>\n",
       "      <th>Techno, Trance</th>\n",
       "      <td></td>\n",
       "      <td></td>\n",
       "      <td></td>\n",
       "      <td></td>\n",
       "      <td></td>\n",
       "      <td></td>\n",
       "      <td></td>\n",
       "      <td></td>\n",
       "      <td></td>\n",
       "      <td></td>\n",
       "      <td></td>\n",
       "      <td></td>\n",
       "      <td></td>\n",
       "      <td></td>\n",
       "      <td></td>\n",
       "      <td>1</td>\n",
       "      <td></td>\n",
       "    </tr>\n",
       "    <tr>\n",
       "      <th>Opera</th>\n",
       "      <td></td>\n",
       "      <td></td>\n",
       "      <td></td>\n",
       "      <td>0.593175</td>\n",
       "      <td></td>\n",
       "      <td></td>\n",
       "      <td></td>\n",
       "      <td></td>\n",
       "      <td></td>\n",
       "      <td></td>\n",
       "      <td></td>\n",
       "      <td></td>\n",
       "      <td></td>\n",
       "      <td></td>\n",
       "      <td></td>\n",
       "      <td></td>\n",
       "      <td>1</td>\n",
       "    </tr>\n",
       "  </tbody>\n",
       "</table>\n",
       "</div>"
      ],
      "text/plain": [
       "                  Dance Folk Country Classical music Musical Pop      Rock  \\\n",
       "Dance                 1                                                      \n",
       "Folk                       1                                                 \n",
       "Country                            1                                         \n",
       "Classical music                                    1                         \n",
       "Musical                                                    1                 \n",
       "Pop                                                            1             \n",
       "Rock                                                                     1   \n",
       "Metal or Hardrock                                                  0.53479   \n",
       "Punk                                                              0.515364   \n",
       "Hiphop, Rap                                                                  \n",
       "Reggae, Ska                                                                  \n",
       "Swing, Jazz                                                                  \n",
       "Rock n roll                                                                  \n",
       "Alternative                                                                  \n",
       "Latino                                                                       \n",
       "Techno, Trance                                                               \n",
       "Opera                                       0.593175                         \n",
       "\n",
       "                  Metal or Hardrock      Punk Hiphop, Rap Reggae, Ska  \\\n",
       "Dance                                                                   \n",
       "Folk                                                                    \n",
       "Country                                                                 \n",
       "Classical music                                                         \n",
       "Musical                                                                 \n",
       "Pop                                                                     \n",
       "Rock                        0.53479  0.515364                           \n",
       "Metal or Hardrock                 1  0.549746                           \n",
       "Punk                       0.549746         1                           \n",
       "Hiphop, Rap                                             1               \n",
       "Reggae, Ska                                                         1   \n",
       "Swing, Jazz                                                             \n",
       "Rock n roll                                                             \n",
       "Alternative                                                             \n",
       "Latino                                                                  \n",
       "Techno, Trance                                                          \n",
       "Opera                                                                   \n",
       "\n",
       "                  Swing, Jazz Rock n roll Alternative Latino Techno, Trance  \\\n",
       "Dance                                                                         \n",
       "Folk                                                                          \n",
       "Country                                                                       \n",
       "Classical music                                                               \n",
       "Musical                                                                       \n",
       "Pop                                                                           \n",
       "Rock                                                                          \n",
       "Metal or Hardrock                                                             \n",
       "Punk                                                                          \n",
       "Hiphop, Rap                                                                   \n",
       "Reggae, Ska                                                                   \n",
       "Swing, Jazz                 1                                                 \n",
       "Rock n roll                             1                                     \n",
       "Alternative                                         1                         \n",
       "Latino                                                     1                  \n",
       "Techno, Trance                                                            1   \n",
       "Opera                                                                         \n",
       "\n",
       "                      Opera  \n",
       "Dance                        \n",
       "Folk                         \n",
       "Country                      \n",
       "Classical music    0.593175  \n",
       "Musical                      \n",
       "Pop                          \n",
       "Rock                         \n",
       "Metal or Hardrock            \n",
       "Punk                         \n",
       "Hiphop, Rap                  \n",
       "Reggae, Ska                  \n",
       "Swing, Jazz                  \n",
       "Rock n roll                  \n",
       "Alternative                  \n",
       "Latino                       \n",
       "Techno, Trance               \n",
       "Opera                     1  "
      ]
     },
     "execution_count": 40,
     "metadata": {},
     "output_type": "execute_result"
    }
   ],
   "source": [
    "#6 No Colinearity\n",
    "#--> only a few correlations with a moderate value of r\n",
    "yp_edu_df.drop(\"Education\", axis = 1).corr().applymap(lambda x: x if abs(x)>0.5 else \"\")"
   ]
  },
  {
   "cell_type": "code",
   "execution_count": 41,
   "metadata": {
    "scrolled": false
   },
   "outputs": [
    {
     "name": "stdout",
     "output_type": "stream",
     "text": [
      "p-Value: 0.09978590104286078 , homoscedastic ?: True\n",
      "p-Value: 0.2980170955757283 , homoscedastic ?: True\n",
      "p-Value: 0.4450621729039109 , homoscedastic ?: True\n",
      "p-Value: 0.15340919728621966 , homoscedastic ?: True\n",
      "p-Value: 0.4698476335244578 , homoscedastic ?: True\n",
      "p-Value: 0.613330303906642 , homoscedastic ?: True\n",
      "p-Value: 0.9519752917876482 , homoscedastic ?: True\n",
      "p-Value: 0.6199296289729322 , homoscedastic ?: True\n",
      "p-Value: 0.21618556372895117 , homoscedastic ?: True\n",
      "p-Value: 0.9857748010481224 , homoscedastic ?: True\n",
      "p-Value: 0.8215412338554305 , homoscedastic ?: True\n",
      "p-Value: 0.5596460672520946 , homoscedastic ?: True\n",
      "p-Value: 0.2508685208968258 , homoscedastic ?: True\n",
      "p-Value: 0.835547567093836 , homoscedastic ?: True\n",
      "p-Value: 0.5333536141347668 , homoscedastic ?: True\n",
      "p-Value: 0.8277885291184616 , homoscedastic ?: True\n",
      "p-Value: 0.16419868932755494 , homoscedastic ?: True\n"
     ]
    }
   ],
   "source": [
    "#7 Homoscedasticity of dependant variables\n",
    "# Check for Homoscedasticity using Levene\n",
    "for key in PS_df.keys()[:-1]:\n",
    "    p = stats.levene(PS_df[key],HS_df[key],BA_df[key],MA_df[key])[1]\n",
    "    print(f\"p-Value: {p} , homoscedastic ?: {p>0.05}\")"
   ]
  },
  {
   "cell_type": "markdown",
   "metadata": {},
   "source": [
    "All assumption seem to be valid to use for MANOVA"
   ]
  },
  {
   "cell_type": "markdown",
   "metadata": {},
   "source": [
    "### Testing"
   ]
  },
  {
   "cell_type": "code",
   "execution_count": 42,
   "metadata": {},
   "outputs": [],
   "source": [
    "#Building a linear model for Manova\n",
    "import statsmodels.multivariate.manova as sm"
   ]
  },
  {
   "cell_type": "code",
   "execution_count": 43,
   "metadata": {},
   "outputs": [],
   "source": [
    "yp_edu_manova_df = yp_edu_df\n",
    "yp_edu_manova_df[\"Edu\"] = yp_edu_manova_df.Education.apply(lambda x: 0 if x ==\"0 Primary\" else 1 if x==\"1 Highschool\" else 3 if x == \"3 MA\" else 2)\n",
    "yp_edu_manova_df = yp_edu_manova_df.drop(\"Education\", axis = 1)"
   ]
  },
  {
   "cell_type": "code",
   "execution_count": 44,
   "metadata": {},
   "outputs": [
    {
     "data": {
      "text/html": [
       "<div>\n",
       "<style scoped>\n",
       "    .dataframe tbody tr th:only-of-type {\n",
       "        vertical-align: middle;\n",
       "    }\n",
       "\n",
       "    .dataframe tbody tr th {\n",
       "        vertical-align: top;\n",
       "    }\n",
       "\n",
       "    .dataframe thead th {\n",
       "        text-align: right;\n",
       "    }\n",
       "</style>\n",
       "<table border=\"1\" class=\"dataframe\">\n",
       "  <thead>\n",
       "    <tr style=\"text-align: right;\">\n",
       "      <th></th>\n",
       "      <th>Dance</th>\n",
       "      <th>Folk</th>\n",
       "      <th>Country</th>\n",
       "      <th>Classical music</th>\n",
       "      <th>Musical</th>\n",
       "      <th>Pop</th>\n",
       "      <th>Rock</th>\n",
       "      <th>Metal or Hardrock</th>\n",
       "      <th>Punk</th>\n",
       "      <th>Hiphop, Rap</th>\n",
       "      <th>Reggae, Ska</th>\n",
       "      <th>Swing, Jazz</th>\n",
       "      <th>Rock n roll</th>\n",
       "      <th>Alternative</th>\n",
       "      <th>Latino</th>\n",
       "      <th>Techno, Trance</th>\n",
       "      <th>Opera</th>\n",
       "      <th>Edu</th>\n",
       "    </tr>\n",
       "  </thead>\n",
       "  <tbody>\n",
       "    <tr>\n",
       "      <th>11</th>\n",
       "      <td>1.0</td>\n",
       "      <td>1.0</td>\n",
       "      <td>1.0</td>\n",
       "      <td>4.0</td>\n",
       "      <td>1.0</td>\n",
       "      <td>2.0</td>\n",
       "      <td>5.0</td>\n",
       "      <td>1.0</td>\n",
       "      <td>1.0</td>\n",
       "      <td>1.0</td>\n",
       "      <td>1.0</td>\n",
       "      <td>2.0</td>\n",
       "      <td>2.0</td>\n",
       "      <td>5.0</td>\n",
       "      <td>2.0</td>\n",
       "      <td>1.0</td>\n",
       "      <td>2.0</td>\n",
       "      <td>0</td>\n",
       "    </tr>\n",
       "    <tr>\n",
       "      <th>49</th>\n",
       "      <td>2.0</td>\n",
       "      <td>1.0</td>\n",
       "      <td>2.0</td>\n",
       "      <td>2.0</td>\n",
       "      <td>2.0</td>\n",
       "      <td>3.0</td>\n",
       "      <td>5.0</td>\n",
       "      <td>3.0</td>\n",
       "      <td>5.0</td>\n",
       "      <td>3.0</td>\n",
       "      <td>2.0</td>\n",
       "      <td>2.0</td>\n",
       "      <td>4.0</td>\n",
       "      <td>2.0</td>\n",
       "      <td>1.0</td>\n",
       "      <td>2.0</td>\n",
       "      <td>1.0</td>\n",
       "      <td>0</td>\n",
       "    </tr>\n",
       "    <tr>\n",
       "      <th>64</th>\n",
       "      <td>3.0</td>\n",
       "      <td>1.0</td>\n",
       "      <td>1.0</td>\n",
       "      <td>1.0</td>\n",
       "      <td>4.0</td>\n",
       "      <td>4.0</td>\n",
       "      <td>5.0</td>\n",
       "      <td>1.0</td>\n",
       "      <td>3.0</td>\n",
       "      <td>2.0</td>\n",
       "      <td>1.0</td>\n",
       "      <td>2.0</td>\n",
       "      <td>2.0</td>\n",
       "      <td>1.0</td>\n",
       "      <td>3.0</td>\n",
       "      <td>2.0</td>\n",
       "      <td>2.0</td>\n",
       "      <td>0</td>\n",
       "    </tr>\n",
       "    <tr>\n",
       "      <th>65</th>\n",
       "      <td>3.0</td>\n",
       "      <td>1.0</td>\n",
       "      <td>2.0</td>\n",
       "      <td>2.0</td>\n",
       "      <td>1.0</td>\n",
       "      <td>3.0</td>\n",
       "      <td>3.0</td>\n",
       "      <td>3.0</td>\n",
       "      <td>2.0</td>\n",
       "      <td>4.0</td>\n",
       "      <td>2.0</td>\n",
       "      <td>2.0</td>\n",
       "      <td>2.0</td>\n",
       "      <td>1.0</td>\n",
       "      <td>2.0</td>\n",
       "      <td>4.0</td>\n",
       "      <td>2.0</td>\n",
       "      <td>0</td>\n",
       "    </tr>\n",
       "    <tr>\n",
       "      <th>97</th>\n",
       "      <td>2.0</td>\n",
       "      <td>1.0</td>\n",
       "      <td>1.0</td>\n",
       "      <td>1.0</td>\n",
       "      <td>1.0</td>\n",
       "      <td>2.0</td>\n",
       "      <td>1.0</td>\n",
       "      <td>1.0</td>\n",
       "      <td>1.0</td>\n",
       "      <td>5.0</td>\n",
       "      <td>2.0</td>\n",
       "      <td>2.0</td>\n",
       "      <td>1.0</td>\n",
       "      <td>1.0</td>\n",
       "      <td>1.0</td>\n",
       "      <td>2.0</td>\n",
       "      <td>1.0</td>\n",
       "      <td>0</td>\n",
       "    </tr>\n",
       "  </tbody>\n",
       "</table>\n",
       "</div>"
      ],
      "text/plain": [
       "    Dance  Folk  Country  Classical music  Musical  Pop  Rock  \\\n",
       "11    1.0   1.0      1.0              4.0      1.0  2.0   5.0   \n",
       "49    2.0   1.0      2.0              2.0      2.0  3.0   5.0   \n",
       "64    3.0   1.0      1.0              1.0      4.0  4.0   5.0   \n",
       "65    3.0   1.0      2.0              2.0      1.0  3.0   3.0   \n",
       "97    2.0   1.0      1.0              1.0      1.0  2.0   1.0   \n",
       "\n",
       "    Metal or Hardrock  Punk  Hiphop, Rap  Reggae, Ska  Swing, Jazz  \\\n",
       "11                1.0   1.0          1.0          1.0          2.0   \n",
       "49                3.0   5.0          3.0          2.0          2.0   \n",
       "64                1.0   3.0          2.0          1.0          2.0   \n",
       "65                3.0   2.0          4.0          2.0          2.0   \n",
       "97                1.0   1.0          5.0          2.0          2.0   \n",
       "\n",
       "    Rock n roll  Alternative  Latino  Techno, Trance  Opera  Edu  \n",
       "11          2.0          5.0     2.0             1.0    2.0    0  \n",
       "49          4.0          2.0     1.0             2.0    1.0    0  \n",
       "64          2.0          1.0     3.0             2.0    2.0    0  \n",
       "65          2.0          1.0     2.0             4.0    2.0    0  \n",
       "97          1.0          1.0     1.0             2.0    1.0    0  "
      ]
     },
     "execution_count": 44,
     "metadata": {},
     "output_type": "execute_result"
    }
   ],
   "source": [
    "yp_edu_manova_df.head()"
   ]
  },
  {
   "cell_type": "code",
   "execution_count": 45,
   "metadata": {},
   "outputs": [],
   "source": [
    "yp_edu_manova_df = yp_edu_manova_df.rename(lambda x: x.replace(\",\",\"\").replace(\" \",\"_\").lower(), axis = \"columns\")"
   ]
  },
  {
   "cell_type": "code",
   "execution_count": 46,
   "metadata": {},
   "outputs": [],
   "source": [
    "df = yp_edu_manova_df"
   ]
  },
  {
   "cell_type": "code",
   "execution_count": 47,
   "metadata": {},
   "outputs": [
    {
     "data": {
      "text/plain": [
       "'dance+folk+country+classical_music+musical+pop+rock+metal_or_hardrock+punk+hiphop_rap+reggae_ska+swing_jazz+rock_n_roll+alternative+latino+techno_trance+opera ~ edu'"
      ]
     },
     "execution_count": 47,
     "metadata": {},
     "output_type": "execute_result"
    }
   ],
   "source": [
    "#formula must contain dependant and independant Variables DV + DV... ~ IV ? <-- should work\n",
    "DVs = df.columns[0:-1]\n",
    "IVs = df.columns[-1]\n",
    "\n",
    "formula = \"+\".join(DVs)+\" ~ \" + IVs\n",
    "formula"
   ]
  },
  {
   "cell_type": "code",
   "execution_count": 48,
   "metadata": {},
   "outputs": [
    {
     "name": "stdout",
     "output_type": "stream",
     "text": [
      "                   Multivariate linear model\n",
      "===============================================================\n",
      "                                                               \n",
      "---------------------------------------------------------------\n",
      "       Intercept        Value   Num DF  Den DF  F Value  Pr > F\n",
      "---------------------------------------------------------------\n",
      "          Wilks' lambda 0.1054 17.0000 976.0000 487.3519 0.0000\n",
      "         Pillai's trace 0.8946 17.0000 976.0000 487.3519 0.0000\n",
      " Hotelling-Lawley trace 8.4887 17.0000 976.0000 487.3519 0.0000\n",
      "    Roy's greatest root 8.4887 17.0000 976.0000 487.3519 0.0000\n",
      "---------------------------------------------------------------\n",
      "                                                               \n",
      "---------------------------------------------------------------\n",
      "           edu           Value   Num DF  Den DF  F Value Pr > F\n",
      "---------------------------------------------------------------\n",
      "           Wilks' lambda 0.9555 17.0000 976.0000  2.6730 0.0003\n",
      "          Pillai's trace 0.0445 17.0000 976.0000  2.6730 0.0003\n",
      "  Hotelling-Lawley trace 0.0466 17.0000 976.0000  2.6730 0.0003\n",
      "     Roy's greatest root 0.0466 17.0000 976.0000  2.6730 0.0003\n",
      "===============================================================\n",
      "\n"
     ]
    }
   ],
   "source": [
    "mod = sm.MANOVA.from_formula(formula, data=df)\n",
    "r = mod.mv_test()\n",
    "print(r)"
   ]
  },
  {
   "cell_type": "markdown",
   "metadata": {},
   "source": [
    "### Result\n",
    "p-values in the MANOVA Matrix show that there are significant differences in Musical Preference between different education levels.\n"
   ]
  },
  {
   "cell_type": "markdown",
   "metadata": {},
   "source": [
    "### Post-Hoc Testing\n",
    "In the following sections 1 way ANOVAs are used to determine Music Genres that significantly change with Education level."
   ]
  },
  {
   "cell_type": "code",
   "execution_count": 49,
   "metadata": {},
   "outputs": [
    {
     "data": {
      "text/html": [
       "<div>\n",
       "<style scoped>\n",
       "    .dataframe tbody tr th:only-of-type {\n",
       "        vertical-align: middle;\n",
       "    }\n",
       "\n",
       "    .dataframe tbody tr th {\n",
       "        vertical-align: top;\n",
       "    }\n",
       "\n",
       "    .dataframe thead th {\n",
       "        text-align: right;\n",
       "    }\n",
       "</style>\n",
       "<table border=\"1\" class=\"dataframe\">\n",
       "  <thead>\n",
       "    <tr style=\"text-align: right;\">\n",
       "      <th></th>\n",
       "      <th>Dance</th>\n",
       "      <th>Folk</th>\n",
       "      <th>Country</th>\n",
       "      <th>Classical music</th>\n",
       "      <th>Musical</th>\n",
       "      <th>Pop</th>\n",
       "      <th>Rock</th>\n",
       "      <th>Metal or Hardrock</th>\n",
       "      <th>Punk</th>\n",
       "      <th>Hiphop, Rap</th>\n",
       "      <th>Reggae, Ska</th>\n",
       "      <th>Swing, Jazz</th>\n",
       "      <th>Rock n roll</th>\n",
       "      <th>Alternative</th>\n",
       "      <th>Latino</th>\n",
       "      <th>Techno, Trance</th>\n",
       "      <th>Opera</th>\n",
       "      <th>Education</th>\n",
       "      <th>Edu</th>\n",
       "    </tr>\n",
       "  </thead>\n",
       "  <tbody>\n",
       "    <tr>\n",
       "      <th>11</th>\n",
       "      <td>1.0</td>\n",
       "      <td>1.0</td>\n",
       "      <td>1.0</td>\n",
       "      <td>4.0</td>\n",
       "      <td>1.0</td>\n",
       "      <td>2.0</td>\n",
       "      <td>5.0</td>\n",
       "      <td>1.0</td>\n",
       "      <td>1.0</td>\n",
       "      <td>1.0</td>\n",
       "      <td>1.0</td>\n",
       "      <td>2.0</td>\n",
       "      <td>2.0</td>\n",
       "      <td>5.0</td>\n",
       "      <td>2.0</td>\n",
       "      <td>1.0</td>\n",
       "      <td>2.0</td>\n",
       "      <td>0 Primary</td>\n",
       "      <td>0</td>\n",
       "    </tr>\n",
       "    <tr>\n",
       "      <th>49</th>\n",
       "      <td>2.0</td>\n",
       "      <td>1.0</td>\n",
       "      <td>2.0</td>\n",
       "      <td>2.0</td>\n",
       "      <td>2.0</td>\n",
       "      <td>3.0</td>\n",
       "      <td>5.0</td>\n",
       "      <td>3.0</td>\n",
       "      <td>5.0</td>\n",
       "      <td>3.0</td>\n",
       "      <td>2.0</td>\n",
       "      <td>2.0</td>\n",
       "      <td>4.0</td>\n",
       "      <td>2.0</td>\n",
       "      <td>1.0</td>\n",
       "      <td>2.0</td>\n",
       "      <td>1.0</td>\n",
       "      <td>0 Primary</td>\n",
       "      <td>0</td>\n",
       "    </tr>\n",
       "    <tr>\n",
       "      <th>64</th>\n",
       "      <td>3.0</td>\n",
       "      <td>1.0</td>\n",
       "      <td>1.0</td>\n",
       "      <td>1.0</td>\n",
       "      <td>4.0</td>\n",
       "      <td>4.0</td>\n",
       "      <td>5.0</td>\n",
       "      <td>1.0</td>\n",
       "      <td>3.0</td>\n",
       "      <td>2.0</td>\n",
       "      <td>1.0</td>\n",
       "      <td>2.0</td>\n",
       "      <td>2.0</td>\n",
       "      <td>1.0</td>\n",
       "      <td>3.0</td>\n",
       "      <td>2.0</td>\n",
       "      <td>2.0</td>\n",
       "      <td>0 Primary</td>\n",
       "      <td>0</td>\n",
       "    </tr>\n",
       "    <tr>\n",
       "      <th>65</th>\n",
       "      <td>3.0</td>\n",
       "      <td>1.0</td>\n",
       "      <td>2.0</td>\n",
       "      <td>2.0</td>\n",
       "      <td>1.0</td>\n",
       "      <td>3.0</td>\n",
       "      <td>3.0</td>\n",
       "      <td>3.0</td>\n",
       "      <td>2.0</td>\n",
       "      <td>4.0</td>\n",
       "      <td>2.0</td>\n",
       "      <td>2.0</td>\n",
       "      <td>2.0</td>\n",
       "      <td>1.0</td>\n",
       "      <td>2.0</td>\n",
       "      <td>4.0</td>\n",
       "      <td>2.0</td>\n",
       "      <td>0 Primary</td>\n",
       "      <td>0</td>\n",
       "    </tr>\n",
       "    <tr>\n",
       "      <th>97</th>\n",
       "      <td>2.0</td>\n",
       "      <td>1.0</td>\n",
       "      <td>1.0</td>\n",
       "      <td>1.0</td>\n",
       "      <td>1.0</td>\n",
       "      <td>2.0</td>\n",
       "      <td>1.0</td>\n",
       "      <td>1.0</td>\n",
       "      <td>1.0</td>\n",
       "      <td>5.0</td>\n",
       "      <td>2.0</td>\n",
       "      <td>2.0</td>\n",
       "      <td>1.0</td>\n",
       "      <td>1.0</td>\n",
       "      <td>1.0</td>\n",
       "      <td>2.0</td>\n",
       "      <td>1.0</td>\n",
       "      <td>0 Primary</td>\n",
       "      <td>0</td>\n",
       "    </tr>\n",
       "  </tbody>\n",
       "</table>\n",
       "</div>"
      ],
      "text/plain": [
       "    Dance  Folk  Country  Classical music  Musical  Pop  Rock  \\\n",
       "11    1.0   1.0      1.0              4.0      1.0  2.0   5.0   \n",
       "49    2.0   1.0      2.0              2.0      2.0  3.0   5.0   \n",
       "64    3.0   1.0      1.0              1.0      4.0  4.0   5.0   \n",
       "65    3.0   1.0      2.0              2.0      1.0  3.0   3.0   \n",
       "97    2.0   1.0      1.0              1.0      1.0  2.0   1.0   \n",
       "\n",
       "    Metal or Hardrock  Punk  Hiphop, Rap  Reggae, Ska  Swing, Jazz  \\\n",
       "11                1.0   1.0          1.0          1.0          2.0   \n",
       "49                3.0   5.0          3.0          2.0          2.0   \n",
       "64                1.0   3.0          2.0          1.0          2.0   \n",
       "65                3.0   2.0          4.0          2.0          2.0   \n",
       "97                1.0   1.0          5.0          2.0          2.0   \n",
       "\n",
       "    Rock n roll  Alternative  Latino  Techno, Trance  Opera  Education  Edu  \n",
       "11          2.0          5.0     2.0             1.0    2.0  0 Primary    0  \n",
       "49          4.0          2.0     1.0             2.0    1.0  0 Primary    0  \n",
       "64          2.0          1.0     3.0             2.0    2.0  0 Primary    0  \n",
       "65          2.0          1.0     2.0             4.0    2.0  0 Primary    0  \n",
       "97          1.0          1.0     1.0             2.0    1.0  0 Primary    0  "
      ]
     },
     "execution_count": 49,
     "metadata": {},
     "output_type": "execute_result"
    }
   ],
   "source": [
    "yp_edu_df.head()"
   ]
  },
  {
   "cell_type": "code",
   "execution_count": 50,
   "metadata": {},
   "outputs": [],
   "source": [
    "import statsmodels.api as sm\n",
    "from statsmodels.formula.api import ols"
   ]
  },
  {
   "cell_type": "code",
   "execution_count": 51,
   "metadata": {},
   "outputs": [
    {
     "data": {
      "text/html": [
       "<div>\n",
       "<style scoped>\n",
       "    .dataframe tbody tr th:only-of-type {\n",
       "        vertical-align: middle;\n",
       "    }\n",
       "\n",
       "    .dataframe tbody tr th {\n",
       "        vertical-align: top;\n",
       "    }\n",
       "\n",
       "    .dataframe thead th {\n",
       "        text-align: right;\n",
       "    }\n",
       "</style>\n",
       "<table border=\"1\" class=\"dataframe\">\n",
       "  <thead>\n",
       "    <tr style=\"text-align: right;\">\n",
       "      <th></th>\n",
       "      <th>dance</th>\n",
       "      <th>folk</th>\n",
       "      <th>country</th>\n",
       "      <th>classical_music</th>\n",
       "      <th>musical</th>\n",
       "      <th>pop</th>\n",
       "      <th>rock</th>\n",
       "      <th>metal_or_hardrock</th>\n",
       "      <th>punk</th>\n",
       "      <th>hiphop_rap</th>\n",
       "      <th>reggae_ska</th>\n",
       "      <th>swing_jazz</th>\n",
       "      <th>rock_n_roll</th>\n",
       "      <th>alternative</th>\n",
       "      <th>latino</th>\n",
       "      <th>techno_trance</th>\n",
       "      <th>opera</th>\n",
       "      <th>edu</th>\n",
       "    </tr>\n",
       "  </thead>\n",
       "  <tbody>\n",
       "    <tr>\n",
       "      <th>11</th>\n",
       "      <td>1.0</td>\n",
       "      <td>1.0</td>\n",
       "      <td>1.0</td>\n",
       "      <td>4.0</td>\n",
       "      <td>1.0</td>\n",
       "      <td>2.0</td>\n",
       "      <td>5.0</td>\n",
       "      <td>1.0</td>\n",
       "      <td>1.0</td>\n",
       "      <td>1.0</td>\n",
       "      <td>1.0</td>\n",
       "      <td>2.0</td>\n",
       "      <td>2.0</td>\n",
       "      <td>5.0</td>\n",
       "      <td>2.0</td>\n",
       "      <td>1.0</td>\n",
       "      <td>2.0</td>\n",
       "      <td>0</td>\n",
       "    </tr>\n",
       "    <tr>\n",
       "      <th>49</th>\n",
       "      <td>2.0</td>\n",
       "      <td>1.0</td>\n",
       "      <td>2.0</td>\n",
       "      <td>2.0</td>\n",
       "      <td>2.0</td>\n",
       "      <td>3.0</td>\n",
       "      <td>5.0</td>\n",
       "      <td>3.0</td>\n",
       "      <td>5.0</td>\n",
       "      <td>3.0</td>\n",
       "      <td>2.0</td>\n",
       "      <td>2.0</td>\n",
       "      <td>4.0</td>\n",
       "      <td>2.0</td>\n",
       "      <td>1.0</td>\n",
       "      <td>2.0</td>\n",
       "      <td>1.0</td>\n",
       "      <td>0</td>\n",
       "    </tr>\n",
       "    <tr>\n",
       "      <th>64</th>\n",
       "      <td>3.0</td>\n",
       "      <td>1.0</td>\n",
       "      <td>1.0</td>\n",
       "      <td>1.0</td>\n",
       "      <td>4.0</td>\n",
       "      <td>4.0</td>\n",
       "      <td>5.0</td>\n",
       "      <td>1.0</td>\n",
       "      <td>3.0</td>\n",
       "      <td>2.0</td>\n",
       "      <td>1.0</td>\n",
       "      <td>2.0</td>\n",
       "      <td>2.0</td>\n",
       "      <td>1.0</td>\n",
       "      <td>3.0</td>\n",
       "      <td>2.0</td>\n",
       "      <td>2.0</td>\n",
       "      <td>0</td>\n",
       "    </tr>\n",
       "    <tr>\n",
       "      <th>65</th>\n",
       "      <td>3.0</td>\n",
       "      <td>1.0</td>\n",
       "      <td>2.0</td>\n",
       "      <td>2.0</td>\n",
       "      <td>1.0</td>\n",
       "      <td>3.0</td>\n",
       "      <td>3.0</td>\n",
       "      <td>3.0</td>\n",
       "      <td>2.0</td>\n",
       "      <td>4.0</td>\n",
       "      <td>2.0</td>\n",
       "      <td>2.0</td>\n",
       "      <td>2.0</td>\n",
       "      <td>1.0</td>\n",
       "      <td>2.0</td>\n",
       "      <td>4.0</td>\n",
       "      <td>2.0</td>\n",
       "      <td>0</td>\n",
       "    </tr>\n",
       "    <tr>\n",
       "      <th>97</th>\n",
       "      <td>2.0</td>\n",
       "      <td>1.0</td>\n",
       "      <td>1.0</td>\n",
       "      <td>1.0</td>\n",
       "      <td>1.0</td>\n",
       "      <td>2.0</td>\n",
       "      <td>1.0</td>\n",
       "      <td>1.0</td>\n",
       "      <td>1.0</td>\n",
       "      <td>5.0</td>\n",
       "      <td>2.0</td>\n",
       "      <td>2.0</td>\n",
       "      <td>1.0</td>\n",
       "      <td>1.0</td>\n",
       "      <td>1.0</td>\n",
       "      <td>2.0</td>\n",
       "      <td>1.0</td>\n",
       "      <td>0</td>\n",
       "    </tr>\n",
       "  </tbody>\n",
       "</table>\n",
       "</div>"
      ],
      "text/plain": [
       "    dance  folk  country  classical_music  musical  pop  rock  \\\n",
       "11    1.0   1.0      1.0              4.0      1.0  2.0   5.0   \n",
       "49    2.0   1.0      2.0              2.0      2.0  3.0   5.0   \n",
       "64    3.0   1.0      1.0              1.0      4.0  4.0   5.0   \n",
       "65    3.0   1.0      2.0              2.0      1.0  3.0   3.0   \n",
       "97    2.0   1.0      1.0              1.0      1.0  2.0   1.0   \n",
       "\n",
       "    metal_or_hardrock  punk  hiphop_rap  reggae_ska  swing_jazz  rock_n_roll  \\\n",
       "11                1.0   1.0         1.0         1.0         2.0          2.0   \n",
       "49                3.0   5.0         3.0         2.0         2.0          4.0   \n",
       "64                1.0   3.0         2.0         1.0         2.0          2.0   \n",
       "65                3.0   2.0         4.0         2.0         2.0          2.0   \n",
       "97                1.0   1.0         5.0         2.0         2.0          1.0   \n",
       "\n",
       "    alternative  latino  techno_trance  opera  edu  \n",
       "11          5.0     2.0            1.0    2.0    0  \n",
       "49          2.0     1.0            2.0    1.0    0  \n",
       "64          1.0     3.0            2.0    2.0    0  \n",
       "65          1.0     2.0            4.0    2.0    0  \n",
       "97          1.0     1.0            2.0    1.0    0  "
      ]
     },
     "execution_count": 51,
     "metadata": {},
     "output_type": "execute_result"
    }
   ],
   "source": [
    "#yp_edu_manova_df.edu = yp_edu_manova_df.edu.apply(lambda x: \"PS\" if x==0 else \"HS\" if x == 1 else \"BA\" if x ==2 else \"MA\")\n",
    "yp_edu_manova_df.head()"
   ]
  },
  {
   "cell_type": "code",
   "execution_count": 52,
   "metadata": {},
   "outputs": [
    {
     "name": "stdout",
     "output_type": "stream",
     "text": [
      "dance\n",
      "               sum_sq     df         F    PR(>F)\n",
      "C(edu)       1.949197    3.0  0.475379  0.699491\n",
      "Residual  1353.098087  990.0       NaN       NaN\n",
      "REJECT H0?: False\n",
      "\n",
      "folk\n",
      "               sum_sq     df         F    PR(>F)\n",
      "C(edu)      26.296018    3.0  6.888693  0.000136\n",
      "Residual  1259.699958  990.0       NaN       NaN\n",
      "REJECT H0?: True\n",
      "\n",
      "country\n",
      "               sum_sq     df         F    PR(>F)\n",
      "C(edu)       6.569905    3.0  1.915959  0.125286\n",
      "Residual  1131.584019  990.0       NaN       NaN\n",
      "REJECT H0?: False\n",
      "\n",
      "classical_music\n",
      "               sum_sq     df         F   PR(>F)\n",
      "C(edu)      18.844951    3.0  4.059981  0.00701\n",
      "Residual  1531.739556  990.0       NaN      NaN\n",
      "REJECT H0?: True\n",
      "\n",
      "musical\n",
      "               sum_sq     df         F    PR(>F)\n",
      "C(edu)       5.745436    3.0  1.197914  0.309396\n",
      "Residual  1582.746516  990.0       NaN       NaN\n",
      "REJECT H0?: False\n",
      "\n",
      "pop\n",
      "               sum_sq     df         F    PR(>F)\n",
      "C(edu)       2.038877    3.0  0.500783  0.681817\n",
      "Residual  1343.555691  990.0       NaN       NaN\n",
      "REJECT H0?: False\n",
      "\n",
      "rock\n",
      "              sum_sq     df         F    PR(>F)\n",
      "C(edu)       4.56310    3.0  1.098662  0.348734\n",
      "Residual  1370.59686  990.0       NaN       NaN\n",
      "REJECT H0?: False\n",
      "\n",
      "metal_or_hardrock\n",
      "               sum_sq     df         F    PR(>F)\n",
      "C(edu)       3.473968    3.0  0.616586  0.604338\n",
      "Residual  1859.286595  990.0       NaN       NaN\n",
      "REJECT H0?: False\n",
      "\n",
      "punk\n",
      "               sum_sq     df         F    PR(>F)\n",
      "C(edu)       5.053268    3.0  1.004671  0.389939\n",
      "Residual  1659.825002  990.0       NaN       NaN\n",
      "REJECT H0?: False\n",
      "\n",
      "hiphop_rap\n",
      "               sum_sq     df         F    PR(>F)\n",
      "C(edu)      16.590448    3.0  2.957952  0.031513\n",
      "Residual  1850.891443  990.0       NaN       NaN\n",
      "REJECT H0?: False\n",
      "\n",
      "reggae_ska\n",
      "               sum_sq     df         F    PR(>F)\n",
      "C(edu)       0.657334    3.0  0.149671  0.929915\n",
      "Residual  1449.310473  990.0       NaN       NaN\n",
      "REJECT H0?: False\n",
      "\n",
      "swing_jazz\n",
      "               sum_sq     df         F    PR(>F)\n",
      "C(edu)      13.494116    3.0  2.850686  0.036409\n",
      "Residual  1562.100451  990.0       NaN       NaN\n",
      "REJECT H0?: False\n",
      "\n",
      "rock_n_roll\n",
      "               sum_sq     df         F    PR(>F)\n",
      "C(edu)       2.915470    3.0  0.637569  0.590907\n",
      "Residual  1509.020144  990.0       NaN       NaN\n",
      "REJECT H0?: False\n",
      "\n",
      "alternative\n",
      "               sum_sq     df         F    PR(>F)\n",
      "C(edu)      14.065846    3.0  2.592896  0.051421\n",
      "Residual  1790.171579  990.0       NaN       NaN\n",
      "REJECT H0?: False\n",
      "\n",
      "latino\n",
      "               sum_sq     df       F    PR(>F)\n",
      "C(edu)      13.323767    3.0  2.5314  0.055811\n",
      "Residual  1736.921706  990.0     NaN       NaN\n",
      "REJECT H0?: False\n",
      "\n",
      "techno_trance\n",
      "               sum_sq     df         F    PR(>F)\n",
      "C(edu)       5.502135    3.0  1.051811  0.368777\n",
      "Residual  1726.264465  990.0       NaN       NaN\n",
      "REJECT H0?: False\n",
      "\n",
      "opera\n",
      "               sum_sq     df         F   PR(>F)\n",
      "C(edu)      18.131826    3.0  4.342209  0.00475\n",
      "Residual  1377.985880  990.0       NaN      NaN\n",
      "REJECT H0?: True\n",
      "\n"
     ]
    }
   ],
   "source": [
    "df = yp_edu_manova_df\n",
    "sig_ANOVAs = []\n",
    "for genre in df.columns[:-1]:\n",
    "    formula = f\"{genre}~C(edu)\"\n",
    "    lm = ols(formula,df).fit()\n",
    "    table = sm.stats.anova_lm(lm,typ = 2)\n",
    "    reject_h0 = table[table.columns[-1]][0]<0.025\n",
    "    if reject_h0:\n",
    "        sig_ANOVAs.append(genre)\n",
    "    print(genre)\n",
    "    print(table)\n",
    "    print(f\"REJECT H0?: {reject_h0}\")\n",
    "    print(\"\")"
   ]
  },
  {
   "cell_type": "code",
   "execution_count": 53,
   "metadata": {},
   "outputs": [
    {
     "name": "stdout",
     "output_type": "stream",
     "text": [
      "['folk', 'classical_music', 'opera']\n"
     ]
    }
   ],
   "source": [
    "print(sig_ANOVAs)"
   ]
  },
  {
   "cell_type": "markdown",
   "metadata": {},
   "source": [
    "## Result: \n",
    "The differenes in Folk, Classical Music and Opera are significant at a 5% confidence level amoungst different Educational Degrees"
   ]
  }
 ],
 "metadata": {
  "kernelspec": {
   "display_name": "Python 3",
   "language": "python",
   "name": "python3"
  },
  "language_info": {
   "codemirror_mode": {
    "name": "ipython",
    "version": 3
   },
   "file_extension": ".py",
   "mimetype": "text/x-python",
   "name": "python",
   "nbconvert_exporter": "python",
   "pygments_lexer": "ipython3",
   "version": "3.7.1"
  }
 },
 "nbformat": 4,
 "nbformat_minor": 2
}
